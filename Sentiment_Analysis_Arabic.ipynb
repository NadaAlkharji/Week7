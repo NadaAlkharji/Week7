{
  "nbformat": 4,
  "nbformat_minor": 0,
  "metadata": {
    "colab": {
      "provenance": [],
      "gpuType": "T4"
    },
    "kernelspec": {
      "name": "python3",
      "display_name": "Python 3"
    },
    "language_info": {
      "name": "python"
    },
    "accelerator": "GPU"
  },
  "cells": [
    {
      "cell_type": "markdown",
      "source": [
        "# Install and Import Libraries"
      ],
      "metadata": {
        "id": "gWjAHo5QmETv"
      }
    },
    {
      "cell_type": "code",
      "source": [
        "!pip install PyArabic"
      ],
      "metadata": {
        "colab": {
          "base_uri": "https://localhost:8080/"
        },
        "id": "BKhO0wAdI2Vj",
        "outputId": "9a55fb28-93c6-4bfd-b443-5034a8c6d86f"
      },
      "execution_count": null,
      "outputs": [
        {
          "output_type": "stream",
          "name": "stdout",
          "text": [
            "Collecting PyArabic\n",
            "  Downloading PyArabic-0.6.15-py3-none-any.whl.metadata (10 kB)\n",
            "Requirement already satisfied: six>=1.14.0 in /usr/local/lib/python3.10/dist-packages (from PyArabic) (1.16.0)\n",
            "Downloading PyArabic-0.6.15-py3-none-any.whl (126 kB)\n",
            "\u001b[?25l   \u001b[90m━━━━━━━━━━━━━━━━━━━━━━━━━━━━━━━━━━━━━━━━\u001b[0m \u001b[32m0.0/126.4 kB\u001b[0m \u001b[31m?\u001b[0m eta \u001b[36m-:--:--\u001b[0m\r\u001b[2K   \u001b[91m━━━━━━━━━━━━━━━━━━━━━━━━━━━━━━━━━━━━━━\u001b[0m\u001b[91m╸\u001b[0m\u001b[90m━\u001b[0m \u001b[32m122.9/126.4 kB\u001b[0m \u001b[31m3.8 MB/s\u001b[0m eta \u001b[36m0:00:01\u001b[0m\r\u001b[2K   \u001b[90m━━━━━━━━━━━━━━━━━━━━━━━━━━━━━━━━━━━━━━━━\u001b[0m \u001b[32m126.4/126.4 kB\u001b[0m \u001b[31m2.7 MB/s\u001b[0m eta \u001b[36m0:00:00\u001b[0m\n",
            "\u001b[?25hInstalling collected packages: PyArabic\n",
            "Successfully installed PyArabic-0.6.15\n"
          ]
        }
      ]
    },
    {
      "cell_type": "code",
      "execution_count": null,
      "metadata": {
        "id": "TICpnZTZFpZR",
        "colab": {
          "base_uri": "https://localhost:8080/"
        },
        "outputId": "960aad49-f884-4c38-cbda-791aa382a767"
      },
      "outputs": [
        {
          "output_type": "stream",
          "name": "stdout",
          "text": [
            "Dataset URL: https://www.kaggle.com/datasets/abedkhooli/arabic-100k-reviews\n",
            "License(s): copyright-authors\n",
            "Downloading arabic-100k-reviews.zip to /content\n",
            " 94% 16.0M/17.0M [00:00<00:00, 66.0MB/s]\n",
            "100% 17.0M/17.0M [00:00<00:00, 60.8MB/s]\n",
            "Archive:  arabic-100k-reviews.zip\n",
            "  inflating: ar_reviews_100k.tsv     \n"
          ]
        }
      ],
      "source": [
        "!kaggle datasets download -d abedkhooli/arabic-100k-reviews\n",
        "!unzip arabic-100k-reviews.zip"
      ]
    },
    {
      "cell_type": "code",
      "source": [
        "import re\n",
        "import pandas as pd\n",
        "\n",
        "import pyarabic.araby as araby\n",
        "\n",
        "import nltk\n",
        "from nltk.corpus import stopwords\n",
        "import nltk\n",
        "from nltk.stem.isri import ISRIStemmer\n",
        "nltk.download('stopwords')\n",
        "\n",
        "import tensorflow\n",
        "from tensorflow.keras.models import Sequential\n",
        "from tensorflow.keras.layers import Embedding, LSTM, Dense, Dropout, Input, Bidirectional, SimpleRNN, LSTM\n",
        "\n",
        "from tensorflow.keras.preprocessing.text import Tokenizer\n",
        "from tensorflow.keras.preprocessing.sequence import pad_sequences\n",
        "from sklearn.preprocessing import LabelEncoder\n",
        "from sklearn.model_selection import train_test_split\n",
        "\n",
        "import matplotlib.pyplot as plt"
      ],
      "metadata": {
        "colab": {
          "base_uri": "https://localhost:8080/"
        },
        "id": "ZkmqzJhuJAuf",
        "outputId": "81a60272-0ae3-4b9f-a887-800f60305ef1"
      },
      "execution_count": null,
      "outputs": [
        {
          "output_type": "stream",
          "name": "stderr",
          "text": [
            "[nltk_data] Downloading package stopwords to /root/nltk_data...\n",
            "[nltk_data]   Unzipping corpora/stopwords.zip.\n"
          ]
        }
      ]
    },
    {
      "cell_type": "markdown",
      "source": [
        "# Load the dataset"
      ],
      "metadata": {
        "id": "polSS_T-CLGz"
      }
    },
    {
      "cell_type": "code",
      "source": [
        "file_path = 'ar_reviews_100k.tsv'\n",
        "df = pd.read_csv(file_path, sep='\\t')\n",
        "\n",
        "max_length = 250\n",
        "min_length = 20\n",
        "\n",
        "# I need to remove mixed reviews and set the longest text to 250 characters and the shortest to 20\n",
        "df = df[df['label'] != 'Mixed']\n",
        "df = df[df['text'].str.split().str.len().between(min_length, max_length)]\n",
        "\n",
        "df.head()"
      ],
      "metadata": {
        "colab": {
          "base_uri": "https://localhost:8080/",
          "height": 206
        },
        "id": "QsFsGtN9IHJa",
        "outputId": "fe13c83d-5563-4983-e11b-15b2584e6780"
      },
      "execution_count": null,
      "outputs": [
        {
          "output_type": "execute_result",
          "data": {
            "text/plain": [
              "      label                                               text\n",
              "1  Positive  أحد أسباب نجاح الإمارات أن كل شخص في هذه الدول...\n",
              "2  Positive  هادفة .. وقوية. تنقلك من صخب شوارع القاهرة الى...\n",
              "3  Positive  خلصنا .. مبدئيا اللي مستني ابهار زي الفيل الاز...\n",
              "7  Positive  الكتاب هو السيرة الذاتية للحداثة في المملكة بل...\n",
              "9  Positive  بشكل عام جيده .. . التجاوب جيد جدا من قبل موظف..."
            ],
            "text/html": [
              "\n",
              "  <div id=\"df-2ac53e90-183c-4c72-96b0-7bb7b2c353c7\" class=\"colab-df-container\">\n",
              "    <div>\n",
              "<style scoped>\n",
              "    .dataframe tbody tr th:only-of-type {\n",
              "        vertical-align: middle;\n",
              "    }\n",
              "\n",
              "    .dataframe tbody tr th {\n",
              "        vertical-align: top;\n",
              "    }\n",
              "\n",
              "    .dataframe thead th {\n",
              "        text-align: right;\n",
              "    }\n",
              "</style>\n",
              "<table border=\"1\" class=\"dataframe\">\n",
              "  <thead>\n",
              "    <tr style=\"text-align: right;\">\n",
              "      <th></th>\n",
              "      <th>label</th>\n",
              "      <th>text</th>\n",
              "    </tr>\n",
              "  </thead>\n",
              "  <tbody>\n",
              "    <tr>\n",
              "      <th>1</th>\n",
              "      <td>Positive</td>\n",
              "      <td>أحد أسباب نجاح الإمارات أن كل شخص في هذه الدول...</td>\n",
              "    </tr>\n",
              "    <tr>\n",
              "      <th>2</th>\n",
              "      <td>Positive</td>\n",
              "      <td>هادفة .. وقوية. تنقلك من صخب شوارع القاهرة الى...</td>\n",
              "    </tr>\n",
              "    <tr>\n",
              "      <th>3</th>\n",
              "      <td>Positive</td>\n",
              "      <td>خلصنا .. مبدئيا اللي مستني ابهار زي الفيل الاز...</td>\n",
              "    </tr>\n",
              "    <tr>\n",
              "      <th>7</th>\n",
              "      <td>Positive</td>\n",
              "      <td>الكتاب هو السيرة الذاتية للحداثة في المملكة بل...</td>\n",
              "    </tr>\n",
              "    <tr>\n",
              "      <th>9</th>\n",
              "      <td>Positive</td>\n",
              "      <td>بشكل عام جيده .. . التجاوب جيد جدا من قبل موظف...</td>\n",
              "    </tr>\n",
              "  </tbody>\n",
              "</table>\n",
              "</div>\n",
              "    <div class=\"colab-df-buttons\">\n",
              "\n",
              "  <div class=\"colab-df-container\">\n",
              "    <button class=\"colab-df-convert\" onclick=\"convertToInteractive('df-2ac53e90-183c-4c72-96b0-7bb7b2c353c7')\"\n",
              "            title=\"Convert this dataframe to an interactive table.\"\n",
              "            style=\"display:none;\">\n",
              "\n",
              "  <svg xmlns=\"http://www.w3.org/2000/svg\" height=\"24px\" viewBox=\"0 -960 960 960\">\n",
              "    <path d=\"M120-120v-720h720v720H120Zm60-500h600v-160H180v160Zm220 220h160v-160H400v160Zm0 220h160v-160H400v160ZM180-400h160v-160H180v160Zm440 0h160v-160H620v160ZM180-180h160v-160H180v160Zm440 0h160v-160H620v160Z\"/>\n",
              "  </svg>\n",
              "    </button>\n",
              "\n",
              "  <style>\n",
              "    .colab-df-container {\n",
              "      display:flex;\n",
              "      gap: 12px;\n",
              "    }\n",
              "\n",
              "    .colab-df-convert {\n",
              "      background-color: #E8F0FE;\n",
              "      border: none;\n",
              "      border-radius: 50%;\n",
              "      cursor: pointer;\n",
              "      display: none;\n",
              "      fill: #1967D2;\n",
              "      height: 32px;\n",
              "      padding: 0 0 0 0;\n",
              "      width: 32px;\n",
              "    }\n",
              "\n",
              "    .colab-df-convert:hover {\n",
              "      background-color: #E2EBFA;\n",
              "      box-shadow: 0px 1px 2px rgba(60, 64, 67, 0.3), 0px 1px 3px 1px rgba(60, 64, 67, 0.15);\n",
              "      fill: #174EA6;\n",
              "    }\n",
              "\n",
              "    .colab-df-buttons div {\n",
              "      margin-bottom: 4px;\n",
              "    }\n",
              "\n",
              "    [theme=dark] .colab-df-convert {\n",
              "      background-color: #3B4455;\n",
              "      fill: #D2E3FC;\n",
              "    }\n",
              "\n",
              "    [theme=dark] .colab-df-convert:hover {\n",
              "      background-color: #434B5C;\n",
              "      box-shadow: 0px 1px 3px 1px rgba(0, 0, 0, 0.15);\n",
              "      filter: drop-shadow(0px 1px 2px rgba(0, 0, 0, 0.3));\n",
              "      fill: #FFFFFF;\n",
              "    }\n",
              "  </style>\n",
              "\n",
              "    <script>\n",
              "      const buttonEl =\n",
              "        document.querySelector('#df-2ac53e90-183c-4c72-96b0-7bb7b2c353c7 button.colab-df-convert');\n",
              "      buttonEl.style.display =\n",
              "        google.colab.kernel.accessAllowed ? 'block' : 'none';\n",
              "\n",
              "      async function convertToInteractive(key) {\n",
              "        const element = document.querySelector('#df-2ac53e90-183c-4c72-96b0-7bb7b2c353c7');\n",
              "        const dataTable =\n",
              "          await google.colab.kernel.invokeFunction('convertToInteractive',\n",
              "                                                    [key], {});\n",
              "        if (!dataTable) return;\n",
              "\n",
              "        const docLinkHtml = 'Like what you see? Visit the ' +\n",
              "          '<a target=\"_blank\" href=https://colab.research.google.com/notebooks/data_table.ipynb>data table notebook</a>'\n",
              "          + ' to learn more about interactive tables.';\n",
              "        element.innerHTML = '';\n",
              "        dataTable['output_type'] = 'display_data';\n",
              "        await google.colab.output.renderOutput(dataTable, element);\n",
              "        const docLink = document.createElement('div');\n",
              "        docLink.innerHTML = docLinkHtml;\n",
              "        element.appendChild(docLink);\n",
              "      }\n",
              "    </script>\n",
              "  </div>\n",
              "\n",
              "\n",
              "<div id=\"df-8736fc3a-83d9-4edd-a9ff-fec67c5765e6\">\n",
              "  <button class=\"colab-df-quickchart\" onclick=\"quickchart('df-8736fc3a-83d9-4edd-a9ff-fec67c5765e6')\"\n",
              "            title=\"Suggest charts\"\n",
              "            style=\"display:none;\">\n",
              "\n",
              "<svg xmlns=\"http://www.w3.org/2000/svg\" height=\"24px\"viewBox=\"0 0 24 24\"\n",
              "     width=\"24px\">\n",
              "    <g>\n",
              "        <path d=\"M19 3H5c-1.1 0-2 .9-2 2v14c0 1.1.9 2 2 2h14c1.1 0 2-.9 2-2V5c0-1.1-.9-2-2-2zM9 17H7v-7h2v7zm4 0h-2V7h2v10zm4 0h-2v-4h2v4z\"/>\n",
              "    </g>\n",
              "</svg>\n",
              "  </button>\n",
              "\n",
              "<style>\n",
              "  .colab-df-quickchart {\n",
              "      --bg-color: #E8F0FE;\n",
              "      --fill-color: #1967D2;\n",
              "      --hover-bg-color: #E2EBFA;\n",
              "      --hover-fill-color: #174EA6;\n",
              "      --disabled-fill-color: #AAA;\n",
              "      --disabled-bg-color: #DDD;\n",
              "  }\n",
              "\n",
              "  [theme=dark] .colab-df-quickchart {\n",
              "      --bg-color: #3B4455;\n",
              "      --fill-color: #D2E3FC;\n",
              "      --hover-bg-color: #434B5C;\n",
              "      --hover-fill-color: #FFFFFF;\n",
              "      --disabled-bg-color: #3B4455;\n",
              "      --disabled-fill-color: #666;\n",
              "  }\n",
              "\n",
              "  .colab-df-quickchart {\n",
              "    background-color: var(--bg-color);\n",
              "    border: none;\n",
              "    border-radius: 50%;\n",
              "    cursor: pointer;\n",
              "    display: none;\n",
              "    fill: var(--fill-color);\n",
              "    height: 32px;\n",
              "    padding: 0;\n",
              "    width: 32px;\n",
              "  }\n",
              "\n",
              "  .colab-df-quickchart:hover {\n",
              "    background-color: var(--hover-bg-color);\n",
              "    box-shadow: 0 1px 2px rgba(60, 64, 67, 0.3), 0 1px 3px 1px rgba(60, 64, 67, 0.15);\n",
              "    fill: var(--button-hover-fill-color);\n",
              "  }\n",
              "\n",
              "  .colab-df-quickchart-complete:disabled,\n",
              "  .colab-df-quickchart-complete:disabled:hover {\n",
              "    background-color: var(--disabled-bg-color);\n",
              "    fill: var(--disabled-fill-color);\n",
              "    box-shadow: none;\n",
              "  }\n",
              "\n",
              "  .colab-df-spinner {\n",
              "    border: 2px solid var(--fill-color);\n",
              "    border-color: transparent;\n",
              "    border-bottom-color: var(--fill-color);\n",
              "    animation:\n",
              "      spin 1s steps(1) infinite;\n",
              "  }\n",
              "\n",
              "  @keyframes spin {\n",
              "    0% {\n",
              "      border-color: transparent;\n",
              "      border-bottom-color: var(--fill-color);\n",
              "      border-left-color: var(--fill-color);\n",
              "    }\n",
              "    20% {\n",
              "      border-color: transparent;\n",
              "      border-left-color: var(--fill-color);\n",
              "      border-top-color: var(--fill-color);\n",
              "    }\n",
              "    30% {\n",
              "      border-color: transparent;\n",
              "      border-left-color: var(--fill-color);\n",
              "      border-top-color: var(--fill-color);\n",
              "      border-right-color: var(--fill-color);\n",
              "    }\n",
              "    40% {\n",
              "      border-color: transparent;\n",
              "      border-right-color: var(--fill-color);\n",
              "      border-top-color: var(--fill-color);\n",
              "    }\n",
              "    60% {\n",
              "      border-color: transparent;\n",
              "      border-right-color: var(--fill-color);\n",
              "    }\n",
              "    80% {\n",
              "      border-color: transparent;\n",
              "      border-right-color: var(--fill-color);\n",
              "      border-bottom-color: var(--fill-color);\n",
              "    }\n",
              "    90% {\n",
              "      border-color: transparent;\n",
              "      border-bottom-color: var(--fill-color);\n",
              "    }\n",
              "  }\n",
              "</style>\n",
              "\n",
              "  <script>\n",
              "    async function quickchart(key) {\n",
              "      const quickchartButtonEl =\n",
              "        document.querySelector('#' + key + ' button');\n",
              "      quickchartButtonEl.disabled = true;  // To prevent multiple clicks.\n",
              "      quickchartButtonEl.classList.add('colab-df-spinner');\n",
              "      try {\n",
              "        const charts = await google.colab.kernel.invokeFunction(\n",
              "            'suggestCharts', [key], {});\n",
              "      } catch (error) {\n",
              "        console.error('Error during call to suggestCharts:', error);\n",
              "      }\n",
              "      quickchartButtonEl.classList.remove('colab-df-spinner');\n",
              "      quickchartButtonEl.classList.add('colab-df-quickchart-complete');\n",
              "    }\n",
              "    (() => {\n",
              "      let quickchartButtonEl =\n",
              "        document.querySelector('#df-8736fc3a-83d9-4edd-a9ff-fec67c5765e6 button');\n",
              "      quickchartButtonEl.style.display =\n",
              "        google.colab.kernel.accessAllowed ? 'block' : 'none';\n",
              "    })();\n",
              "  </script>\n",
              "</div>\n",
              "\n",
              "    </div>\n",
              "  </div>\n"
            ],
            "application/vnd.google.colaboratory.intrinsic+json": {
              "type": "dataframe",
              "variable_name": "df",
              "summary": "{\n  \"name\": \"df\",\n  \"rows\": 37709,\n  \"fields\": [\n    {\n      \"column\": \"label\",\n      \"properties\": {\n        \"dtype\": \"category\",\n        \"num_unique_values\": 2,\n        \"samples\": [\n          \"Negative\",\n          \"Positive\"\n        ],\n        \"semantic_type\": \"\",\n        \"description\": \"\"\n      }\n    },\n    {\n      \"column\": \"text\",\n      \"properties\": {\n        \"dtype\": \"string\",\n        \"num_unique_values\": 37709,\n        \"samples\": [\n          \"\\u0644\\u0627 \\u0627\\u0639\\u0631\\u0641 \\u0644\\u0645\\u0627\\u0630\\u0627 \\u0627\\u0631\\u062f\\u062a \\u0642\\u0631\\u0627\\u0621\\u0629 \\u0647\\u0630\\u0647 \\u0627\\u0644\\u0631\\u0648\\u0627\\u064a\\u0629 \\u0631\\u0628\\u0645\\u0627 \\u0645\\u0646 \\u0639\\u0646\\u0648\\u0627\\u0646\\u0647\\u0627. \\u0648\\u0627\\u064a\\u0636\\u0627 \\u0644\\u0627 \\u0627\\u0639\\u0644\\u0645 \\u0644\\u0645\\u0627\\u0630\\u0627 \\u0627\\u0643\\u0645\\u0644\\u062a\\u0647\\u0627 \\u0628\\u0627\\u0644\\u0631\\u063a\\u0645 \\u0645\\u0646 \\u0627\\u0646\\u0646\\u064a \\u0644\\u0645 \\u0627\\u062d\\u0628 \\u0634\\u062e\\u0635\\u064a\\u0627\\u062a\\u0647\\u0627. \\u0627\\u0643\\u062b\\u0631 \\u0634\\u062e\\u0635\\u064a\\u062a\\u064a\\u0646 \\u0627\\u0639\\u062c\\u0628\\u0648\\u0646\\u064a \\u0648 \\u0644\\u0645 \\u064a\\u0643\\u0648\\u0646\\u0648 \\u0645\\u062b\\u0644 \\u0628\\u0627\\u0642\\u064a \\u0627\\u0644\\u0634\\u062e\\u0635\\u064a\\u0627\\u062a. \\u062c\\u0631\\u0647\\u0627\\u0645 \\u0648\\u0643\\u0631\\u0645 \\u062f\\u0648\\u0633 . \\u0648\\u0643\\u0644 \\u0634\\u062e\\u0635\\u064a\\u0629 \\u0646\\u0627\\u0644\\u062a \\u0645\\u0627\\u062a\\u0633\\u062a\\u062d\\u0642\\u0647 \\u0641\\u064a \\u0627\\u0644\\u0646\\u0647\\u0627\\u064a\\u0629. \\u0627\\u0644\\u0646\\u0647\\u0627\\u064a\\u0629 \\u0627\\u0644\\u0645\\u0623\\u0633\\u0627\\u0648\\u064a\\u0629 \\u0627\\u0644\\u062a\\u064a \\u0642\\u0644\\u062a \\u0639\\u0646\\u062f\\u0647\\u0627. \\u0627\\u062d\\u0633\\u0646 \\u0647\\u0630\\u0627 \\u0645\\u0627\\u062a\\u0633\\u062a\\u062d\\u0642\\u0648\\u0646\\u0647 . \\u0644\\u0645 \\u064a\\u0639\\u062c\\u0628\\u0646\\u064a \\u0641 \\u0627\\u0644\\u0631\\u0648\\u0627\\u064a\\u0629 \\u0648\\u062c\\u0648\\u062f \\u0627\\u0644\\u0643\\u062b\\u064a\\u0631 \\u0627\\u0644\\u0643\\u062b\\u064a\\u0631 \\u0645\\u0646 \\u0627\\u0644\\u0643\\u0644\\u0627\\u0645. \\u0627\\u0644\\u0630\\u064a \\u0644\\u0627 \\u0641\\u0627\\u0626\\u062f\\u0647 \\u0645\\u0646\\u0647 \\u0631\\u0628\\u0645\\u0627 \\u0627\\u0630\\u0627 \\u0644\\u062e\\u0635 \\u0644\\u062d\\u0630\\u0641 \\u0646\\u0635\\u0641 \\u0627\\u0644\\u0643\\u062a\\u0627\\u0628\",\n          \"\\u0628\\u064a\\u0646 \\u0627\\u0644\\u062c\\u0646\\u0629 \\u0648\\u0627\\u0644\\u0646\\u0627\\u0631 \\u062e\\u0637 \\u0631\\u0641\\u064a\\u0639. \\u064a\\u062e\\u062a\\u0644\\u0641 \\u0633\\u0627\\u0643\\u0646\\u0648 \\u0627\\u0644\\u062c\\u0646\\u0629 \\u0628\\u0645\\u0627\\u064a\\u0642\\u062a\\u0636\\u064a\\u0647 \\u0627\\u0644\\u0639\\u0642\\u0644 \\u0639\\u0646 \\u0633\\u0627\\u0643\\u0646\\u064a \\u0627\\u0644\\u0646\\u0627\\u0631. \\u0641\\u064a \\u0643\\u0644 \\u0634\\u064a\\u0621. \\u0644\\u0643\\u0646\\u060c \\u0647\\u0644 \\u0633\\u0627\\u0643\\u0646\\u064a \\u0627\\u0644\\u0642\\u0635\\u0648\\u0631 \\u0647\\u0645 \\u062f\\u0627\\u0626\\u0645\\u0627 \\u0633\\u0627\\u0643\\u0646\\u064a \\u0627\\u0644\\u062c\\u0646\\u0627\\u0646\\u061f\\u061f. \\u0642\\u0627\\u0644 \\u062a\\u0639\\u0627\\u0644\\u0649 \\u0641\\u064a \\u0645\\u062d\\u0643\\u0645 \\u062a\\u0646\\u0632\\u064a\\u0644\\u0647 \\u0648\\u0627\\u0635\\u0641\\u0627 \\u0627\\u0644\\u0646\\u0627\\u0631. \\u0625\\u0646\\u0647\\u0627 \\u062a\\u0631\\u0645\\u064a \\u0628\\u0634\\u0631\\u0631 \\u0643\\u0627\\u0644\\u0642\\u0635\\u0631 \\u0643\\u0623\\u0646\\u0647 \\u062c\\u0645\\u0627\\u0644\\u0629 \\u0635\\u0641\\u0631 . \\u0648\\u0643\\u0627\\u0646 \\u0647\\u0630\\u0627 \\u062d\\u0627\\u0644 \\u0642\\u0635\\u0631 \\u0639\\u0628\\u062f\\u0647 \\u062e\\u0627\\u0644. \\u0642\\u0635\\u0631 \\u0634\\u064a\\u062f \\u0641\\u064a \\u0627\\u0644\\u0644\\u0627\\u0648\\u0642\\u062a\\u060c \\u0644\\u064a\\u0628\\u0647\\u0631 \\u0633\\u0627\\u0643\\u0646\\u064a \\u0645\\u062f\\u064a\\u0646\\u0629 \\u062c\\u062f\\u0629 \\u0628\\u0631\\u0648\\u0639\\u0629 \\u062a\\u0635\\u0645\\u064a\\u0645\\u0647. \\u064a\\u0639\\u0644\\u0642 \\u0627\\u0644\\u0634\\u0628\\u0627\\u0646 \\u0623\\u062d\\u0644\\u0627\\u0645\\u0647\\u0645 \\u0628\\u0647\\u060c \\u0648\\u0643\\u0623\\u0646\\u0647\\u0645 \\u0628\\u062f\\u062e\\u0648\\u0644\\u0647\\u0645 \\u0625\\u0644\\u064a\\u0647 \\u0642\\u062f \\u0645\\u0644\\u0643\\u0648\\u0627 \\u0627\\u0644\\u062f\\u0646\\u064a\\u0627 \\u0648\\u0645\\u0627\\u0641\\u064a\\u0647\\u0627. \\u0646\\u062c\\u0645\\u0629 \\u0648\\u0646\\u0635\\u0641 . \\u0623\\u0648\\u062c\\u0647 \\u0647\\u0646\\u0627 \\u0627\\u0644\\u0646\\u062f\\u0627\\u0621 \\u0644\\u0623\\u064a \\u0630\\u0627\\u0626\\u0642 \\u0623\\u062f\\u0628\\u064a \\u0644\\u064a\\u0639\\u0630\\u0631 \\u0642\\u0644\\u0629 \\u062d\\u064a\\u0644\\u062a\\u064a \\u0648\\u062e\\u0628\\u0631\\u062a\\u064a \\u060c \\u0648\\u064a\\u0634\\u0631\\u062d \\u0644\\u064a \\u0642\\u0644\\u064a\\u0644\\u0627 \\u0633\\u0628\\u0628 \\u0641\\u0648\\u0632 \\u0647\\u0630\\u0647 \\u0627\\u0644\\u0631\\u0648\\u0627\\u064a\\u0629 \\u0628\\u0627\\u0644\\u062c\\u0627\\u0626\\u0632\\u0629. \\u0643\\u0627\\u0646\\u062a \\u0627\\u0644\\u0646\\u062c\\u0645\\u0629 \\u0648\\u0627\\u0644\\u0646\\u0635\\u0641 \\u0644\\u0645\\u0627 \\u0623\\u062d\\u0628\\u0628\\u062a\\u0647 \\u0645\\u0646 \\u0627\\u0644\\u0627\\u0633\\u062a\\u0637\\u0631\\u0627\\u062f \\u0627\\u0644\\u0630\\u064a\\u0630 \\u062d\\u0642\\u0627. : \\u0627\\u0644\\u0630\\u064a \\u064a\\u0645\\u062a\\u062d\\u0646 \\u0645\\u062f\\u0649 \\u062a\\u0631\\u0643\\u064a\\u0632\\u064a. \\u0623\\u0645\\u0627 \\u0627\\u0644\\u0642\\u0635\\u0629 \\u0648\\u062a\\u0641\\u0627\\u0635\\u064a\\u0644 \\u0623\\u062d\\u062f\\u0627\\u062b\\u0647\\u0627 \\u0648\\u0627\\u0644\\u0645\\u0641\\u0631\\u062f\\u0627\\u062a \\u0627\\u0644\\u0645\\u062e\\u062a\\u0627\\u0631\\u0629 \\u0644\\u0644\\u062a\\u0639\\u0628\\u064a\\u0631 \\u0639\\u0646\\u0647\\u0627. \\u0641\\u0647\\u064a \\u0644\\u0644\\u0623\\u0633\\u0641 \\u0642\\u0645\\u0629 \\u0641\\u064a \\u0627\\u0644\\u0625\\u0632\\u0639\\u0627\\u062c. \\u0623\\u062a\\u0645\\u0646\\u0649 \\u0628\\u0627\\u0644\\u0641\\u0639\\u0644 \\u0644\\u0648 \\u0643\\u0627\\u0646 \\u0642\\u0644\\u0645\\u0647 \\u0623\\u0643\\u062b\\u0631. \\u0646\\u0638\\u0627\\u0641\\u0629\"\n        ],\n        \"semantic_type\": \"\",\n        \"description\": \"\"\n      }\n    }\n  ]\n}"
            }
          },
          "metadata": {},
          "execution_count": 4
        }
      ]
    },
    {
      "cell_type": "markdown",
      "source": [
        "# Preproccess the text"
      ],
      "metadata": {
        "id": "Gx7v-z-ICRS3"
      }
    },
    {
      "cell_type": "code",
      "source": [
        "# Load the Arabic stopwords\n",
        "arabic_stopwords = set(stopwords.words('arabic'))\n",
        "# Load Arabic stemmer\n",
        "st = ISRIStemmer()\n",
        "\n",
        "# Define the function to clean the text\n",
        "def clean_text(text):\n",
        "    # Step 1: Remove links (URLs)\n",
        "    # This regex pattern matches URLs and removes them from the text\n",
        "    cleaned_text = re.sub(r'http\\S+|www\\S+|https\\S+', '', text, flags=re.MULTILINE)\n",
        "\n",
        "    # Step 2: Remove special characters and punctuations\n",
        "    # This removes any character that is not a word or whitespace\n",
        "    cleaned_text = re.sub(r'[^\\w\\s]', '', cleaned_text)\n",
        "\n",
        "    # Step 3: Remove Arabic diacritics (Tashkeel), and Tatweel\n",
        "    # Tashkeel includes diacritical marks in Arabic (vowel sounds)\n",
        "    cleaned_text = araby.strip_tashkeel(cleaned_text)  # Removes Tashkeel\n",
        "    cleaned_text = araby.strip_tatweel(cleaned_text)   # Removes elongated letters\n",
        "    cleaned_text = araby.strip_lastharaka(cleaned_text)  # Removes last haraka\n",
        "\n",
        "    # Step 4: Tokenize the text (split the sentence into words)\n",
        "    words = cleaned_text.split()\n",
        "\n",
        "    # Step 5: Remove Arabic stopwords\n",
        "    # This filters out any word that is part of the Arabic stopwords list\n",
        "    filtered_words = [word for word in words if word not in arabic_stopwords]\n",
        "\n",
        "    # Step 6: Apply stemming to the text\n",
        "    stemmed_words = []\n",
        "    for word in words:\n",
        "      stemmed_words.append(st.stem(word))\n",
        "\n",
        "    # Step 7: Join the filtered words back into a cleaned sentence\n",
        "    stemmed_words = ' '.join(filtered_words)\n",
        "\n",
        "    # Step 8: Normalize Hamza in the cleaned text\n",
        "    cleaned_text = araby.normalize_hamza(stemmed_words)\n",
        "\n",
        "    return cleaned_text\n",
        "\n",
        "# Apply the clean_text function to the second row in the dataframe's 'text' column\n",
        "cleaned_text = clean_text(df['text'][1])\n",
        "\n",
        "# Print the original and cleaned text for comparison\n",
        "print(f'Before: {df[\"text\"][1]}')\n",
        "print(f'After: {cleaned_text}')"
      ],
      "metadata": {
        "colab": {
          "base_uri": "https://localhost:8080/"
        },
        "id": "UXKlRumPIPrq",
        "outputId": "5c1ee848-82d3-4ef9-9e65-1276ef7e65c0"
      },
      "execution_count": null,
      "outputs": [
        {
          "output_type": "stream",
          "name": "stdout",
          "text": [
            "Before: أحد أسباب نجاح الإمارات أن كل شخص في هذه الدولة يعشق ترابها. نحن نحب الإمارات. ومضات من فكر. نصائح لدولة تطمح بالصفوف الأولى و قائد لا يقبل إلا براحة شعبه وتوفر كل سب العيش الكريم. حكم و مواقف ونصائح لكل فرد فينا ليس بمجرد كتاب سياسي كما كنت اعتقد. يستحق القراءة مرات كثيرة\n",
            "After: ءسباب نجاح الءمارات شخص الدولة يعشق ترابها نحب الءمارات ومضات فكر نصاءح لدولة تطمح بالصفوف الءولى قاءد يقبل براحة شعبه وتوفر سب العيش الكريم حكم مواقف ونصاءح لكل فرد فينا بمجرد كتاب سياسي كنت اعتقد يستحق القراءة مرات كثيرة\n"
          ]
        }
      ]
    },
    {
      "cell_type": "code",
      "source": [
        "df['clean_text'] = df['text'].apply(clean_text)"
      ],
      "metadata": {
        "id": "HR1knjYTWxCt"
      },
      "execution_count": null,
      "outputs": []
    },
    {
      "cell_type": "code",
      "source": [
        "df.head()"
      ],
      "metadata": {
        "colab": {
          "base_uri": "https://localhost:8080/",
          "height": 206
        },
        "id": "rRmU8ZGWJgWY",
        "outputId": "ae52cfff-f68c-4f17-96b8-765f2008c786"
      },
      "execution_count": null,
      "outputs": [
        {
          "output_type": "execute_result",
          "data": {
            "text/plain": [
              "      label                                               text  \\\n",
              "1  Positive  أحد أسباب نجاح الإمارات أن كل شخص في هذه الدول...   \n",
              "2  Positive  هادفة .. وقوية. تنقلك من صخب شوارع القاهرة الى...   \n",
              "3  Positive  خلصنا .. مبدئيا اللي مستني ابهار زي الفيل الاز...   \n",
              "7  Positive  الكتاب هو السيرة الذاتية للحداثة في المملكة بل...   \n",
              "9  Positive  بشكل عام جيده .. . التجاوب جيد جدا من قبل موظف...   \n",
              "\n",
              "                                          clean_text  \n",
              "1  ءسباب نجاح الءمارات شخص الدولة يعشق ترابها نحب...  \n",
              "2  هادفة وقوية تنقلك صخب شوارع القاهرة الى هدوء ج...  \n",
              "3  خلصنا مبدءيا اللي مستني ابهار زي الفيل الازرق ...  \n",
              "7  الكتاب السيرة الذاتية للحداثة المملكة بلسان ءب...  \n",
              "9  بشكل عام جيده التجاوب جيد جدا موظفي الاستقبال ...  "
            ],
            "text/html": [
              "\n",
              "  <div id=\"df-e1b0159d-2f9c-4c3f-a9ec-fb3603060765\" class=\"colab-df-container\">\n",
              "    <div>\n",
              "<style scoped>\n",
              "    .dataframe tbody tr th:only-of-type {\n",
              "        vertical-align: middle;\n",
              "    }\n",
              "\n",
              "    .dataframe tbody tr th {\n",
              "        vertical-align: top;\n",
              "    }\n",
              "\n",
              "    .dataframe thead th {\n",
              "        text-align: right;\n",
              "    }\n",
              "</style>\n",
              "<table border=\"1\" class=\"dataframe\">\n",
              "  <thead>\n",
              "    <tr style=\"text-align: right;\">\n",
              "      <th></th>\n",
              "      <th>label</th>\n",
              "      <th>text</th>\n",
              "      <th>clean_text</th>\n",
              "    </tr>\n",
              "  </thead>\n",
              "  <tbody>\n",
              "    <tr>\n",
              "      <th>1</th>\n",
              "      <td>Positive</td>\n",
              "      <td>أحد أسباب نجاح الإمارات أن كل شخص في هذه الدول...</td>\n",
              "      <td>ءسباب نجاح الءمارات شخص الدولة يعشق ترابها نحب...</td>\n",
              "    </tr>\n",
              "    <tr>\n",
              "      <th>2</th>\n",
              "      <td>Positive</td>\n",
              "      <td>هادفة .. وقوية. تنقلك من صخب شوارع القاهرة الى...</td>\n",
              "      <td>هادفة وقوية تنقلك صخب شوارع القاهرة الى هدوء ج...</td>\n",
              "    </tr>\n",
              "    <tr>\n",
              "      <th>3</th>\n",
              "      <td>Positive</td>\n",
              "      <td>خلصنا .. مبدئيا اللي مستني ابهار زي الفيل الاز...</td>\n",
              "      <td>خلصنا مبدءيا اللي مستني ابهار زي الفيل الازرق ...</td>\n",
              "    </tr>\n",
              "    <tr>\n",
              "      <th>7</th>\n",
              "      <td>Positive</td>\n",
              "      <td>الكتاب هو السيرة الذاتية للحداثة في المملكة بل...</td>\n",
              "      <td>الكتاب السيرة الذاتية للحداثة المملكة بلسان ءب...</td>\n",
              "    </tr>\n",
              "    <tr>\n",
              "      <th>9</th>\n",
              "      <td>Positive</td>\n",
              "      <td>بشكل عام جيده .. . التجاوب جيد جدا من قبل موظف...</td>\n",
              "      <td>بشكل عام جيده التجاوب جيد جدا موظفي الاستقبال ...</td>\n",
              "    </tr>\n",
              "  </tbody>\n",
              "</table>\n",
              "</div>\n",
              "    <div class=\"colab-df-buttons\">\n",
              "\n",
              "  <div class=\"colab-df-container\">\n",
              "    <button class=\"colab-df-convert\" onclick=\"convertToInteractive('df-e1b0159d-2f9c-4c3f-a9ec-fb3603060765')\"\n",
              "            title=\"Convert this dataframe to an interactive table.\"\n",
              "            style=\"display:none;\">\n",
              "\n",
              "  <svg xmlns=\"http://www.w3.org/2000/svg\" height=\"24px\" viewBox=\"0 -960 960 960\">\n",
              "    <path d=\"M120-120v-720h720v720H120Zm60-500h600v-160H180v160Zm220 220h160v-160H400v160Zm0 220h160v-160H400v160ZM180-400h160v-160H180v160Zm440 0h160v-160H620v160ZM180-180h160v-160H180v160Zm440 0h160v-160H620v160Z\"/>\n",
              "  </svg>\n",
              "    </button>\n",
              "\n",
              "  <style>\n",
              "    .colab-df-container {\n",
              "      display:flex;\n",
              "      gap: 12px;\n",
              "    }\n",
              "\n",
              "    .colab-df-convert {\n",
              "      background-color: #E8F0FE;\n",
              "      border: none;\n",
              "      border-radius: 50%;\n",
              "      cursor: pointer;\n",
              "      display: none;\n",
              "      fill: #1967D2;\n",
              "      height: 32px;\n",
              "      padding: 0 0 0 0;\n",
              "      width: 32px;\n",
              "    }\n",
              "\n",
              "    .colab-df-convert:hover {\n",
              "      background-color: #E2EBFA;\n",
              "      box-shadow: 0px 1px 2px rgba(60, 64, 67, 0.3), 0px 1px 3px 1px rgba(60, 64, 67, 0.15);\n",
              "      fill: #174EA6;\n",
              "    }\n",
              "\n",
              "    .colab-df-buttons div {\n",
              "      margin-bottom: 4px;\n",
              "    }\n",
              "\n",
              "    [theme=dark] .colab-df-convert {\n",
              "      background-color: #3B4455;\n",
              "      fill: #D2E3FC;\n",
              "    }\n",
              "\n",
              "    [theme=dark] .colab-df-convert:hover {\n",
              "      background-color: #434B5C;\n",
              "      box-shadow: 0px 1px 3px 1px rgba(0, 0, 0, 0.15);\n",
              "      filter: drop-shadow(0px 1px 2px rgba(0, 0, 0, 0.3));\n",
              "      fill: #FFFFFF;\n",
              "    }\n",
              "  </style>\n",
              "\n",
              "    <script>\n",
              "      const buttonEl =\n",
              "        document.querySelector('#df-e1b0159d-2f9c-4c3f-a9ec-fb3603060765 button.colab-df-convert');\n",
              "      buttonEl.style.display =\n",
              "        google.colab.kernel.accessAllowed ? 'block' : 'none';\n",
              "\n",
              "      async function convertToInteractive(key) {\n",
              "        const element = document.querySelector('#df-e1b0159d-2f9c-4c3f-a9ec-fb3603060765');\n",
              "        const dataTable =\n",
              "          await google.colab.kernel.invokeFunction('convertToInteractive',\n",
              "                                                    [key], {});\n",
              "        if (!dataTable) return;\n",
              "\n",
              "        const docLinkHtml = 'Like what you see? Visit the ' +\n",
              "          '<a target=\"_blank\" href=https://colab.research.google.com/notebooks/data_table.ipynb>data table notebook</a>'\n",
              "          + ' to learn more about interactive tables.';\n",
              "        element.innerHTML = '';\n",
              "        dataTable['output_type'] = 'display_data';\n",
              "        await google.colab.output.renderOutput(dataTable, element);\n",
              "        const docLink = document.createElement('div');\n",
              "        docLink.innerHTML = docLinkHtml;\n",
              "        element.appendChild(docLink);\n",
              "      }\n",
              "    </script>\n",
              "  </div>\n",
              "\n",
              "\n",
              "<div id=\"df-c67d26d3-5b68-49e1-9d22-8a7487efd252\">\n",
              "  <button class=\"colab-df-quickchart\" onclick=\"quickchart('df-c67d26d3-5b68-49e1-9d22-8a7487efd252')\"\n",
              "            title=\"Suggest charts\"\n",
              "            style=\"display:none;\">\n",
              "\n",
              "<svg xmlns=\"http://www.w3.org/2000/svg\" height=\"24px\"viewBox=\"0 0 24 24\"\n",
              "     width=\"24px\">\n",
              "    <g>\n",
              "        <path d=\"M19 3H5c-1.1 0-2 .9-2 2v14c0 1.1.9 2 2 2h14c1.1 0 2-.9 2-2V5c0-1.1-.9-2-2-2zM9 17H7v-7h2v7zm4 0h-2V7h2v10zm4 0h-2v-4h2v4z\"/>\n",
              "    </g>\n",
              "</svg>\n",
              "  </button>\n",
              "\n",
              "<style>\n",
              "  .colab-df-quickchart {\n",
              "      --bg-color: #E8F0FE;\n",
              "      --fill-color: #1967D2;\n",
              "      --hover-bg-color: #E2EBFA;\n",
              "      --hover-fill-color: #174EA6;\n",
              "      --disabled-fill-color: #AAA;\n",
              "      --disabled-bg-color: #DDD;\n",
              "  }\n",
              "\n",
              "  [theme=dark] .colab-df-quickchart {\n",
              "      --bg-color: #3B4455;\n",
              "      --fill-color: #D2E3FC;\n",
              "      --hover-bg-color: #434B5C;\n",
              "      --hover-fill-color: #FFFFFF;\n",
              "      --disabled-bg-color: #3B4455;\n",
              "      --disabled-fill-color: #666;\n",
              "  }\n",
              "\n",
              "  .colab-df-quickchart {\n",
              "    background-color: var(--bg-color);\n",
              "    border: none;\n",
              "    border-radius: 50%;\n",
              "    cursor: pointer;\n",
              "    display: none;\n",
              "    fill: var(--fill-color);\n",
              "    height: 32px;\n",
              "    padding: 0;\n",
              "    width: 32px;\n",
              "  }\n",
              "\n",
              "  .colab-df-quickchart:hover {\n",
              "    background-color: var(--hover-bg-color);\n",
              "    box-shadow: 0 1px 2px rgba(60, 64, 67, 0.3), 0 1px 3px 1px rgba(60, 64, 67, 0.15);\n",
              "    fill: var(--button-hover-fill-color);\n",
              "  }\n",
              "\n",
              "  .colab-df-quickchart-complete:disabled,\n",
              "  .colab-df-quickchart-complete:disabled:hover {\n",
              "    background-color: var(--disabled-bg-color);\n",
              "    fill: var(--disabled-fill-color);\n",
              "    box-shadow: none;\n",
              "  }\n",
              "\n",
              "  .colab-df-spinner {\n",
              "    border: 2px solid var(--fill-color);\n",
              "    border-color: transparent;\n",
              "    border-bottom-color: var(--fill-color);\n",
              "    animation:\n",
              "      spin 1s steps(1) infinite;\n",
              "  }\n",
              "\n",
              "  @keyframes spin {\n",
              "    0% {\n",
              "      border-color: transparent;\n",
              "      border-bottom-color: var(--fill-color);\n",
              "      border-left-color: var(--fill-color);\n",
              "    }\n",
              "    20% {\n",
              "      border-color: transparent;\n",
              "      border-left-color: var(--fill-color);\n",
              "      border-top-color: var(--fill-color);\n",
              "    }\n",
              "    30% {\n",
              "      border-color: transparent;\n",
              "      border-left-color: var(--fill-color);\n",
              "      border-top-color: var(--fill-color);\n",
              "      border-right-color: var(--fill-color);\n",
              "    }\n",
              "    40% {\n",
              "      border-color: transparent;\n",
              "      border-right-color: var(--fill-color);\n",
              "      border-top-color: var(--fill-color);\n",
              "    }\n",
              "    60% {\n",
              "      border-color: transparent;\n",
              "      border-right-color: var(--fill-color);\n",
              "    }\n",
              "    80% {\n",
              "      border-color: transparent;\n",
              "      border-right-color: var(--fill-color);\n",
              "      border-bottom-color: var(--fill-color);\n",
              "    }\n",
              "    90% {\n",
              "      border-color: transparent;\n",
              "      border-bottom-color: var(--fill-color);\n",
              "    }\n",
              "  }\n",
              "</style>\n",
              "\n",
              "  <script>\n",
              "    async function quickchart(key) {\n",
              "      const quickchartButtonEl =\n",
              "        document.querySelector('#' + key + ' button');\n",
              "      quickchartButtonEl.disabled = true;  // To prevent multiple clicks.\n",
              "      quickchartButtonEl.classList.add('colab-df-spinner');\n",
              "      try {\n",
              "        const charts = await google.colab.kernel.invokeFunction(\n",
              "            'suggestCharts', [key], {});\n",
              "      } catch (error) {\n",
              "        console.error('Error during call to suggestCharts:', error);\n",
              "      }\n",
              "      quickchartButtonEl.classList.remove('colab-df-spinner');\n",
              "      quickchartButtonEl.classList.add('colab-df-quickchart-complete');\n",
              "    }\n",
              "    (() => {\n",
              "      let quickchartButtonEl =\n",
              "        document.querySelector('#df-c67d26d3-5b68-49e1-9d22-8a7487efd252 button');\n",
              "      quickchartButtonEl.style.display =\n",
              "        google.colab.kernel.accessAllowed ? 'block' : 'none';\n",
              "    })();\n",
              "  </script>\n",
              "</div>\n",
              "\n",
              "    </div>\n",
              "  </div>\n"
            ],
            "application/vnd.google.colaboratory.intrinsic+json": {
              "type": "dataframe",
              "variable_name": "df",
              "summary": "{\n  \"name\": \"df\",\n  \"rows\": 37709,\n  \"fields\": [\n    {\n      \"column\": \"label\",\n      \"properties\": {\n        \"dtype\": \"category\",\n        \"num_unique_values\": 2,\n        \"samples\": [\n          \"Negative\",\n          \"Positive\"\n        ],\n        \"semantic_type\": \"\",\n        \"description\": \"\"\n      }\n    },\n    {\n      \"column\": \"text\",\n      \"properties\": {\n        \"dtype\": \"string\",\n        \"num_unique_values\": 37709,\n        \"samples\": [\n          \"\\u0644\\u0627 \\u0627\\u0639\\u0631\\u0641 \\u0644\\u0645\\u0627\\u0630\\u0627 \\u0627\\u0631\\u062f\\u062a \\u0642\\u0631\\u0627\\u0621\\u0629 \\u0647\\u0630\\u0647 \\u0627\\u0644\\u0631\\u0648\\u0627\\u064a\\u0629 \\u0631\\u0628\\u0645\\u0627 \\u0645\\u0646 \\u0639\\u0646\\u0648\\u0627\\u0646\\u0647\\u0627. \\u0648\\u0627\\u064a\\u0636\\u0627 \\u0644\\u0627 \\u0627\\u0639\\u0644\\u0645 \\u0644\\u0645\\u0627\\u0630\\u0627 \\u0627\\u0643\\u0645\\u0644\\u062a\\u0647\\u0627 \\u0628\\u0627\\u0644\\u0631\\u063a\\u0645 \\u0645\\u0646 \\u0627\\u0646\\u0646\\u064a \\u0644\\u0645 \\u0627\\u062d\\u0628 \\u0634\\u062e\\u0635\\u064a\\u0627\\u062a\\u0647\\u0627. \\u0627\\u0643\\u062b\\u0631 \\u0634\\u062e\\u0635\\u064a\\u062a\\u064a\\u0646 \\u0627\\u0639\\u062c\\u0628\\u0648\\u0646\\u064a \\u0648 \\u0644\\u0645 \\u064a\\u0643\\u0648\\u0646\\u0648 \\u0645\\u062b\\u0644 \\u0628\\u0627\\u0642\\u064a \\u0627\\u0644\\u0634\\u062e\\u0635\\u064a\\u0627\\u062a. \\u062c\\u0631\\u0647\\u0627\\u0645 \\u0648\\u0643\\u0631\\u0645 \\u062f\\u0648\\u0633 . \\u0648\\u0643\\u0644 \\u0634\\u062e\\u0635\\u064a\\u0629 \\u0646\\u0627\\u0644\\u062a \\u0645\\u0627\\u062a\\u0633\\u062a\\u062d\\u0642\\u0647 \\u0641\\u064a \\u0627\\u0644\\u0646\\u0647\\u0627\\u064a\\u0629. \\u0627\\u0644\\u0646\\u0647\\u0627\\u064a\\u0629 \\u0627\\u0644\\u0645\\u0623\\u0633\\u0627\\u0648\\u064a\\u0629 \\u0627\\u0644\\u062a\\u064a \\u0642\\u0644\\u062a \\u0639\\u0646\\u062f\\u0647\\u0627. \\u0627\\u062d\\u0633\\u0646 \\u0647\\u0630\\u0627 \\u0645\\u0627\\u062a\\u0633\\u062a\\u062d\\u0642\\u0648\\u0646\\u0647 . \\u0644\\u0645 \\u064a\\u0639\\u062c\\u0628\\u0646\\u064a \\u0641 \\u0627\\u0644\\u0631\\u0648\\u0627\\u064a\\u0629 \\u0648\\u062c\\u0648\\u062f \\u0627\\u0644\\u0643\\u062b\\u064a\\u0631 \\u0627\\u0644\\u0643\\u062b\\u064a\\u0631 \\u0645\\u0646 \\u0627\\u0644\\u0643\\u0644\\u0627\\u0645. \\u0627\\u0644\\u0630\\u064a \\u0644\\u0627 \\u0641\\u0627\\u0626\\u062f\\u0647 \\u0645\\u0646\\u0647 \\u0631\\u0628\\u0645\\u0627 \\u0627\\u0630\\u0627 \\u0644\\u062e\\u0635 \\u0644\\u062d\\u0630\\u0641 \\u0646\\u0635\\u0641 \\u0627\\u0644\\u0643\\u062a\\u0627\\u0628\",\n          \"\\u0628\\u064a\\u0646 \\u0627\\u0644\\u062c\\u0646\\u0629 \\u0648\\u0627\\u0644\\u0646\\u0627\\u0631 \\u062e\\u0637 \\u0631\\u0641\\u064a\\u0639. \\u064a\\u062e\\u062a\\u0644\\u0641 \\u0633\\u0627\\u0643\\u0646\\u0648 \\u0627\\u0644\\u062c\\u0646\\u0629 \\u0628\\u0645\\u0627\\u064a\\u0642\\u062a\\u0636\\u064a\\u0647 \\u0627\\u0644\\u0639\\u0642\\u0644 \\u0639\\u0646 \\u0633\\u0627\\u0643\\u0646\\u064a \\u0627\\u0644\\u0646\\u0627\\u0631. \\u0641\\u064a \\u0643\\u0644 \\u0634\\u064a\\u0621. \\u0644\\u0643\\u0646\\u060c \\u0647\\u0644 \\u0633\\u0627\\u0643\\u0646\\u064a \\u0627\\u0644\\u0642\\u0635\\u0648\\u0631 \\u0647\\u0645 \\u062f\\u0627\\u0626\\u0645\\u0627 \\u0633\\u0627\\u0643\\u0646\\u064a \\u0627\\u0644\\u062c\\u0646\\u0627\\u0646\\u061f\\u061f. \\u0642\\u0627\\u0644 \\u062a\\u0639\\u0627\\u0644\\u0649 \\u0641\\u064a \\u0645\\u062d\\u0643\\u0645 \\u062a\\u0646\\u0632\\u064a\\u0644\\u0647 \\u0648\\u0627\\u0635\\u0641\\u0627 \\u0627\\u0644\\u0646\\u0627\\u0631. \\u0625\\u0646\\u0647\\u0627 \\u062a\\u0631\\u0645\\u064a \\u0628\\u0634\\u0631\\u0631 \\u0643\\u0627\\u0644\\u0642\\u0635\\u0631 \\u0643\\u0623\\u0646\\u0647 \\u062c\\u0645\\u0627\\u0644\\u0629 \\u0635\\u0641\\u0631 . \\u0648\\u0643\\u0627\\u0646 \\u0647\\u0630\\u0627 \\u062d\\u0627\\u0644 \\u0642\\u0635\\u0631 \\u0639\\u0628\\u062f\\u0647 \\u062e\\u0627\\u0644. \\u0642\\u0635\\u0631 \\u0634\\u064a\\u062f \\u0641\\u064a \\u0627\\u0644\\u0644\\u0627\\u0648\\u0642\\u062a\\u060c \\u0644\\u064a\\u0628\\u0647\\u0631 \\u0633\\u0627\\u0643\\u0646\\u064a \\u0645\\u062f\\u064a\\u0646\\u0629 \\u062c\\u062f\\u0629 \\u0628\\u0631\\u0648\\u0639\\u0629 \\u062a\\u0635\\u0645\\u064a\\u0645\\u0647. \\u064a\\u0639\\u0644\\u0642 \\u0627\\u0644\\u0634\\u0628\\u0627\\u0646 \\u0623\\u062d\\u0644\\u0627\\u0645\\u0647\\u0645 \\u0628\\u0647\\u060c \\u0648\\u0643\\u0623\\u0646\\u0647\\u0645 \\u0628\\u062f\\u062e\\u0648\\u0644\\u0647\\u0645 \\u0625\\u0644\\u064a\\u0647 \\u0642\\u062f \\u0645\\u0644\\u0643\\u0648\\u0627 \\u0627\\u0644\\u062f\\u0646\\u064a\\u0627 \\u0648\\u0645\\u0627\\u0641\\u064a\\u0647\\u0627. \\u0646\\u062c\\u0645\\u0629 \\u0648\\u0646\\u0635\\u0641 . \\u0623\\u0648\\u062c\\u0647 \\u0647\\u0646\\u0627 \\u0627\\u0644\\u0646\\u062f\\u0627\\u0621 \\u0644\\u0623\\u064a \\u0630\\u0627\\u0626\\u0642 \\u0623\\u062f\\u0628\\u064a \\u0644\\u064a\\u0639\\u0630\\u0631 \\u0642\\u0644\\u0629 \\u062d\\u064a\\u0644\\u062a\\u064a \\u0648\\u062e\\u0628\\u0631\\u062a\\u064a \\u060c \\u0648\\u064a\\u0634\\u0631\\u062d \\u0644\\u064a \\u0642\\u0644\\u064a\\u0644\\u0627 \\u0633\\u0628\\u0628 \\u0641\\u0648\\u0632 \\u0647\\u0630\\u0647 \\u0627\\u0644\\u0631\\u0648\\u0627\\u064a\\u0629 \\u0628\\u0627\\u0644\\u062c\\u0627\\u0626\\u0632\\u0629. \\u0643\\u0627\\u0646\\u062a \\u0627\\u0644\\u0646\\u062c\\u0645\\u0629 \\u0648\\u0627\\u0644\\u0646\\u0635\\u0641 \\u0644\\u0645\\u0627 \\u0623\\u062d\\u0628\\u0628\\u062a\\u0647 \\u0645\\u0646 \\u0627\\u0644\\u0627\\u0633\\u062a\\u0637\\u0631\\u0627\\u062f \\u0627\\u0644\\u0630\\u064a\\u0630 \\u062d\\u0642\\u0627. : \\u0627\\u0644\\u0630\\u064a \\u064a\\u0645\\u062a\\u062d\\u0646 \\u0645\\u062f\\u0649 \\u062a\\u0631\\u0643\\u064a\\u0632\\u064a. \\u0623\\u0645\\u0627 \\u0627\\u0644\\u0642\\u0635\\u0629 \\u0648\\u062a\\u0641\\u0627\\u0635\\u064a\\u0644 \\u0623\\u062d\\u062f\\u0627\\u062b\\u0647\\u0627 \\u0648\\u0627\\u0644\\u0645\\u0641\\u0631\\u062f\\u0627\\u062a \\u0627\\u0644\\u0645\\u062e\\u062a\\u0627\\u0631\\u0629 \\u0644\\u0644\\u062a\\u0639\\u0628\\u064a\\u0631 \\u0639\\u0646\\u0647\\u0627. \\u0641\\u0647\\u064a \\u0644\\u0644\\u0623\\u0633\\u0641 \\u0642\\u0645\\u0629 \\u0641\\u064a \\u0627\\u0644\\u0625\\u0632\\u0639\\u0627\\u062c. \\u0623\\u062a\\u0645\\u0646\\u0649 \\u0628\\u0627\\u0644\\u0641\\u0639\\u0644 \\u0644\\u0648 \\u0643\\u0627\\u0646 \\u0642\\u0644\\u0645\\u0647 \\u0623\\u0643\\u062b\\u0631. \\u0646\\u0638\\u0627\\u0641\\u0629\"\n        ],\n        \"semantic_type\": \"\",\n        \"description\": \"\"\n      }\n    },\n    {\n      \"column\": \"clean_text\",\n      \"properties\": {\n        \"dtype\": \"string\",\n        \"num_unique_values\": 37706,\n        \"samples\": [\n          \"\\u0639\\u0644\\u064a \\u0647\\u0634\\u0627\\u0645 \\u0648\\u0644\\u062f \\u0627\\u0644\\u0646\\u0648\\u0639 \\u0627\\u0644\\u0644\\u064a \\u0628\\u064a\\u062c\\u0649 \\u0645\\u0631\\u0629 \\u062b\\u0648\\u0631\\u0629 \\u0639\\u0645\\u0631 \\u0637\\u0627\\u0647\\u0631 \\u0635\\u062f\\u0642 \\u0627\\u0644\\u0643\\u062a\\u0627\\u0628 \\u0639\\u0628\\u0627\\u0631\\u0629 \\u0642\\u0635\\u0635 \\u0642\\u0635\\u064a\\u0631\\u0629 \\u0642\\u0635\\u064a\\u0631\\u0629 \\u062c\\u062f\\u0627 \\u0643\\u0644\\u0647\\u0627 \\u0645\\u0645\\u062a\\u0639\\u0629 \\u0648\\u0628\\u0637\\u0631\\u064a\\u0642\\u0629 \\u0628\\u0621\\u062e\\u0631\\u0649 \\u0628\\u062a\\u0645\\u062b\\u0644 \\u062c\\u064a\\u0644\\u0646\\u0627 \\u0648\\u0621\\u0641\\u0643\\u0627\\u0631\\u0647 \\u0648\\u0645\\u0634\\u0627\\u0639\\u0631\\u0647 \\u0627\\u0644\\u0634\\u0647\\u062f\\u0627\\u0621 \\u0627\\u0644\\u062b\\u0648\\u0631\\u0629 \\u0627\\u0644\\u062d\\u064a\\u0627\\u0629 \\u0639\\u0627\\u0645\\u0627 \\u0627\\u0644\\u0642\\u0635\\u0635 \\u0621\\u062a\\u0643\\u062a\\u0628 \\u0648\\u062f\\u0647 \\u0634\\u064a\\u0621 \\u062c\\u0645\\u064a\\u0644 \\u062c\\u062f\\u0627 \\u0621\\u0633\\u062a\\u0645\\u062a\\u0639\\u062a \\u0639\\u0645\\u0648\\u0645\\u0627 \\u0628\\u0642\\u0631\\u0627\\u0621\\u0629 \\u0627\\u0644\\u0643\\u062a\\u0627\\u0628 \\u0648\\u0621\\u0628\\u062a\\u0633\\u0645\\u062a \\u0643\\u062a\\u064a\\u0631 \\u0648\\u0621\\u0646\\u0627 \\u0628\\u0642\\u0631\\u0627\\u0647 \\u0648\\u0621\\u0646\\u0635\\u062d \\u0628\\u0642\\u0631\\u0627\\u0621\\u062a\\u0629 \\u062c\\u062f\\u0627\",\n          \"\\u0627\\u0644\\u0628\\u062f\\u0627\\u064a\\u0629 \\u0627\\u0644\\u0633\\u062e\\u0646\\u0629 \\u0627\\u0648\\u064a \\u0627\\u0648\\u064a \\u0648\\u0627\\u0644\\u0634\\u062e\\u0635\\u064a\\u0627\\u062a \\u0627\\u0644\\u0627\\u0628\\u062f\\u0627\\u0639\\u064a\\u0629 \\u0627\\u0644\\u0627\\u0648\\u0644 \\u0645\\u0646\\u0633\\u064a\\u0629 \\u0627\\u062f\\u0631\\u0627\\u0643 \\u0645\\u0646\\u0633\\u064a\\u0629 \\u0627\\u0644\\u0634\\u062e\\u0635\\u064a\\u0629 \\u0627\\u0644\\u062e\\u064a\\u0627\\u0644\\u064a\\u0629 \\u0627\\u0644 \\u0643\\u062a\\u0631 \\u0627\\u0644\\u0643\\u0627\\u062a\\u0628\\u0629 \\u0631\\u0633\\u0645\\u062a\\u0647\\u0627 \\u0643\\u0648\\u064a\\u0633 \\u062d\\u0633\\u064a\\u062a \\u0627\\u0646 \\u0627\\u0646\\u0627 \\u0639\\u0627\\u064a\\u0634 \\u0645\\u0639\\u0627\\u0647\\u0627 \\u0648\\u0641\\u062c\\u0627\\u0621\\u0629 \\u064a\\u062c\\u0635\\u0644 \\u062f\\u0631\\u0648\\u0628 \\u062c\\u0627\\u0645\\u062f \\u062c\\u062f\\u0627 \\u0628\\u062f\\u0627\\u064a\\u0629 \\u0627\\u0644\\u0646\\u0635 \\u0627\\u0644\\u062a\\u0627\\u0646\\u064a \\u062d\\u0634\\u064a\\u062a \\u064a\\u0643\\u0648\\u0646 \\u0627\\u0644\\u062e\\u064a\\u0648\\u0637 \\u0627\\u0644 \\u0643\\u0627\\u0646\\u062a \\u0627\\u064a\\u062f \\u0627\\u0644\\u0643\\u0627\\u062a\\u0628\\u0629 \\u0648\\u0642\\u0639\\u062a \\u0648\\u0643\\u0644 \\u0634\\u0621 \\u0631\\u0633\\u0645\\u0647 \\u0627\\u0644\\u0646\\u0635 \\u0627\\u0644\\u0627\\u0648\\u0644 \\u0628\\u064a\\u0639\\u0645\\u0644 \\u0646\\u0642\\u064a\\u0636\\u0647 \\u064a\\u0639\\u0646\\u064a \\u0645\\u0646\\u0633\\u064a\\u0629 \\u0627\\u0644 \\u0633\\u0628\\u0628 \\u0645\\u0639\\u0631\\u0641\\u062a\\u0647\\u0627 \\u0628\\u062c\\u0627\\u0633\\u0631 \\u0636\\u0639\\u0641\\u0647\\u0627 \\u0627\\u0644 \\u062e\\u0644\\u0647\\u0627 \\u0645\\u0634 \\u0639\\u0631\\u0641\\u0629 \\u062a\\u0634\\u064a\\u0644 \\u0627\\u0644\\u0628\\u0631\\u0627\\u062f \\u0641\\u062c\\u0627\\u0621\\u0629 \\u062a\\u0628\\u062e\\u0631 \\u0648\\u0639\\u0631\\u0641\\u062a \\u062a\\u0634\\u064a\\u0644 \\u0627\\u0644\\u0627\\u0628\\u0627\\u062c\\u0648\\u0631\\u0629 \\u0648\\u062a\\u0645\\u0634\\u064a \\u0628\\u064a\\u0647\\u0627 \\u0648\\u062a\\u0647\\u062c\\u0645 \\u0643\\u0645\\u0627\\u0646 \\u0648\\u0642\\u0628\\u0644\\u0647\\u0627 \\u0628\\u0631\\u0636\\u0648\\u0627 \\u0643\\u0627\\u0646\\u062a \\u0637\\u0641\\u0644\\u0629 \\u0645\\u062a\\u0641\\u0647\\u0645\\u0634 \\u0627\\u064a \\u062d\\u0627\\u062c\\u0629 \\u0627\\u064a \\u062d\\u0627\\u062c\\u0629 \\u0628\\u062a\\u0628\\u0643\\u0631 \\u0648\\u0641\\u062c\\u0627\\u0621\\u0629 \\u0627\\u0648\\u0644 \\u0644\\u0645\\u0633\\u0647\\u0627 \\u062c\\u0627\\u0633\\u0631 \\u0627\\u062a\\u062d\\u0648\\u0644\\u062a \\u0644\\u0628\\u0646\\u062a \\u0627\\u0642\\u0634\\u0639\\u0631\\u062a \\u0648\\u0628\\u0642\\u064a \\u0639\\u0646\\u062f\\u0647\\u0627 \\u0627\\u0646\\u0648\\u062b\\u0629 \\u0637\\u0628 \\u0627\\u0632\\u0627\\u064a \\u0648\\u0641\\u0643\\u0631\\u0629 \\u0627\\u0644\\u0646\\u0647\\u0627\\u064a\\u0629 \\u062e\\u0644\\u062a \\u0627\\u0644\\u0645\\u0621\\u0634\\u0631 \\u0628\\u062f\\u0621 \\u064a\\u0647\\u0628\\u0637 \\u0627\\u0644\\u0646\\u0635 \\u0627\\u0644\\u062a\\u0627\\u0646\\u064a \\u0627\\u0631\\u062a\\u0641\\u0639 \\u0634\\u0648\\u064a\\u0629 \\u0644\\u0644\\u0645\\u0648\\u0639\\u0638\\u0629 \\u0627\\u0644 \\u0643\\u0627\\u0646\\u062a \\u0648\\u0627\\u0646 \\u0643\\u0627\\u0646\\u062a \\u0645\\u062e\\u0641\\u064a\\u0629\"\n        ],\n        \"semantic_type\": \"\",\n        \"description\": \"\"\n      }\n    }\n  ]\n}"
            }
          },
          "metadata": {},
          "execution_count": 7
        }
      ]
    },
    {
      "cell_type": "markdown",
      "source": [
        "# Tokenize&Encode the data"
      ],
      "metadata": {
        "id": "KYpJ8BxOCfKe"
      }
    },
    {
      "cell_type": "code",
      "source": [
        "# Initialize the tokenizer\n",
        "# Tokenizer will convert the text into a sequence of integers based on word frequency\n",
        "tokenizer = Tokenizer()\n",
        "\n",
        "# Fit the tokenizer on the 'clean_text' column of the dataframe\n",
        "# This step builds the word index and counts word frequencies\n",
        "tokenizer.fit_on_texts(df['clean_text'])\n",
        "\n",
        "# Convert the text to sequences of integers\n",
        "# Each word is replaced by its corresponding integer index from the tokenizer\n",
        "sequences = tokenizer.texts_to_sequences(df['clean_text'])\n",
        "\n",
        "# Pad the sequences to ensure uniform length (max_length) => this step is required because the input layer's size is fixed\n",
        "# Padding is added to the end of the sequences ('post') if they are shorter than max_length\n",
        "'''\n",
        "⚠️ IMPORTANT ⚠️ IMPORTANT ⚠️ IMPORTANT ⚠️ IMPORTANT ⚠️\n",
        "If you haven't defined the max_length, you can do the following:\n",
        "\n",
        "max_length = df['text'].str.len().max()\n",
        "\n",
        "This will give you the longest text in the 'text' column\n",
        "'''\n",
        "padded_sequences = pad_sequences(sequences, maxlen=max_length, padding='post')\n",
        "\n",
        "# Initialize the label encoder\n",
        "# Label encoder will convert categorical labels into integer-encoded form\n",
        "label_encoder = LabelEncoder()\n",
        "\n",
        "# Fit and transform the 'label' column of the dataframe into integer labels\n",
        "encoded_labels = label_encoder.fit_transform(df['label'])\n",
        "\n",
        "# Split the data into training and testing sets\n",
        "# Train-test split divides the data into training (80%) and testing (20%) sets\n",
        "train_data, test_data, train_labels, test_labels = train_test_split(\n",
        "    padded_sequences,     # The padded sequences are the feature data\n",
        "    encoded_labels,       # The encoded labels are the target data\n",
        "    test_size=0.2,        # 20% of the data is set aside for testing\n",
        "    random_state=42       # Random seed for reproducibility of results\n",
        ")\n",
        "\n",
        "print(\"Shape of train_data:\", train_data.shape)\n",
        "print(\"Shape of train_labels:\", train_labels.shape)\n",
        "print(\"Shape of test_data:\", test_data.shape)\n",
        "print(\"Shape of test_labels:\", test_labels.shape)\n",
        "\n",
        "'''\n",
        "Please note that the shape should look like this:\n",
        "\n",
        "Shape of train_data: (n, max_length)\n",
        "Shape of train_labels: (n,)\n",
        "Shape of test_data: (n2, max_length)\n",
        "Shape of test_labels: (n2,)\n",
        "\n",
        "Where the n and n2 are the number of samples in the train and test sets, respectively. So the train_data and train_labels have n samples,\n",
        "and the test_data and test_labels have n2 samples.\n",
        "'''"
      ],
      "metadata": {
        "colab": {
          "base_uri": "https://localhost:8080/",
          "height": 128
        },
        "id": "-K8psVNaUdQr",
        "outputId": "e70759ce-8cb2-4fd5-aefa-a5581293b45d"
      },
      "execution_count": null,
      "outputs": [
        {
          "output_type": "stream",
          "name": "stdout",
          "text": [
            "Shape of train_data: (30167, 250)\n",
            "Shape of train_labels: (30167,)\n",
            "Shape of test_data: (7542, 250)\n",
            "Shape of test_labels: (7542,)\n"
          ]
        },
        {
          "output_type": "execute_result",
          "data": {
            "text/plain": [
              "'\\nPlease note that the shape should look like this:\\n\\nShape of train_data: (n, max_length)\\nShape of train_labels: (n,)\\nShape of test_data: (n2, max_length)\\nShape of test_labels: (n2,)\\n\\nWhere the n and n2 are the number of samples in the train and test sets, respectively. So the train_data and train_labels have n samples,\\nand the test_data and test_labels have n2 samples.\\n'"
            ],
            "application/vnd.google.colaboratory.intrinsic+json": {
              "type": "string"
            }
          },
          "metadata": {},
          "execution_count": 8
        }
      ]
    },
    {
      "cell_type": "markdown",
      "source": [
        "# Build & Train the Model"
      ],
      "metadata": {
        "id": "QtTlbs5JD681"
      }
    },
    {
      "cell_type": "code",
      "source": [
        "# Define the Sequential model\n",
        "model = Sequential([\n",
        "    # Input layer, specifying the shape of the input data (e.g., sequence length)\n",
        "    Input(shape=(max_length,)),\n",
        "\n",
        "    # Embedding layer to convert integer-encoded words into dense vectors of fixed size\n",
        "    # input_dim: size of the vocabulary (one more than the word index size to account for padding)\n",
        "    # output_dim: size of the embedding vectors\n",
        "    # input_length: the length of input sequences\n",
        "    Embedding(input_dim=len(tokenizer.word_index) + 1, output_dim=128, input_length=max_length),\n",
        "\n",
        "    # Bidirectional RNN layer using SimpleRNN\n",
        "    # 64 units in the RNN cell, return_sequences=True ensures that output is 3D (one output per time step)\n",
        "    Bidirectional(SimpleRNN(64, return_sequences=True)),\n",
        "\n",
        "    # Another Bidirectional SimpleRNN, this time returning only the final hidden state (2D output)\n",
        "    Bidirectional(SimpleRNN(32)),\n",
        "\n",
        "    # Dense layer (Fully connected layers)\n",
        "    Dense(64, activation='relu'),\n",
        "\n",
        "    # Output Dense layer with 1 unit (for binary classification) and sigmoid activation\n",
        "    # Sigmoid activation squashes the output between 0 and 1, which is useful for binary classification\n",
        "    Dense(1, activation='sigmoid')\n",
        "])\n",
        "\n",
        "model.summary()\n",
        "\n",
        "model.compile(optimizer='adam', loss='binary_crossentropy', metrics=['accuracy'])"
      ],
      "metadata": {
        "colab": {
          "base_uri": "https://localhost:8080/",
          "height": 353
        },
        "id": "zfzcbYOeXBQN",
        "outputId": "40dfc9b0-55db-461c-f27b-9165f0e459e8"
      },
      "execution_count": null,
      "outputs": [
        {
          "output_type": "stream",
          "name": "stderr",
          "text": [
            "/usr/local/lib/python3.10/dist-packages/keras/src/layers/core/embedding.py:90: UserWarning: Argument `input_length` is deprecated. Just remove it.\n",
            "  warnings.warn(\n"
          ]
        },
        {
          "output_type": "display_data",
          "data": {
            "text/plain": [
              "\u001b[1mModel: \"sequential\"\u001b[0m\n"
            ],
            "text/html": [
              "<pre style=\"white-space:pre;overflow-x:auto;line-height:normal;font-family:Menlo,'DejaVu Sans Mono',consolas,'Courier New',monospace\"><span style=\"font-weight: bold\">Model: \"sequential\"</span>\n",
              "</pre>\n"
            ]
          },
          "metadata": {}
        },
        {
          "output_type": "display_data",
          "data": {
            "text/plain": [
              "┏━━━━━━━━━━━━━━━━━━━━━━━━━━━━━━━━━━━━━━┳━━━━━━━━━━━━━━━━━━━━━━━━━━━━━┳━━━━━━━━━━━━━━━━━┓\n",
              "┃\u001b[1m \u001b[0m\u001b[1mLayer (type)                        \u001b[0m\u001b[1m \u001b[0m┃\u001b[1m \u001b[0m\u001b[1mOutput Shape               \u001b[0m\u001b[1m \u001b[0m┃\u001b[1m \u001b[0m\u001b[1m        Param #\u001b[0m\u001b[1m \u001b[0m┃\n",
              "┡━━━━━━━━━━━━━━━━━━━━━━━━━━━━━━━━━━━━━━╇━━━━━━━━━━━━━━━━━━━━━━━━━━━━━╇━━━━━━━━━━━━━━━━━┩\n",
              "│ embedding (\u001b[38;5;33mEmbedding\u001b[0m)                │ (\u001b[38;5;45mNone\u001b[0m, \u001b[38;5;34m250\u001b[0m, \u001b[38;5;34m128\u001b[0m)            │      \u001b[38;5;34m24,747,648\u001b[0m │\n",
              "├──────────────────────────────────────┼─────────────────────────────┼─────────────────┤\n",
              "│ bidirectional (\u001b[38;5;33mBidirectional\u001b[0m)        │ (\u001b[38;5;45mNone\u001b[0m, \u001b[38;5;34m250\u001b[0m, \u001b[38;5;34m128\u001b[0m)            │          \u001b[38;5;34m24,704\u001b[0m │\n",
              "├──────────────────────────────────────┼─────────────────────────────┼─────────────────┤\n",
              "│ bidirectional_1 (\u001b[38;5;33mBidirectional\u001b[0m)      │ (\u001b[38;5;45mNone\u001b[0m, \u001b[38;5;34m64\u001b[0m)                  │          \u001b[38;5;34m10,304\u001b[0m │\n",
              "├──────────────────────────────────────┼─────────────────────────────┼─────────────────┤\n",
              "│ dense (\u001b[38;5;33mDense\u001b[0m)                        │ (\u001b[38;5;45mNone\u001b[0m, \u001b[38;5;34m64\u001b[0m)                  │           \u001b[38;5;34m4,160\u001b[0m │\n",
              "├──────────────────────────────────────┼─────────────────────────────┼─────────────────┤\n",
              "│ dense_1 (\u001b[38;5;33mDense\u001b[0m)                      │ (\u001b[38;5;45mNone\u001b[0m, \u001b[38;5;34m1\u001b[0m)                   │              \u001b[38;5;34m65\u001b[0m │\n",
              "└──────────────────────────────────────┴─────────────────────────────┴─────────────────┘\n"
            ],
            "text/html": [
              "<pre style=\"white-space:pre;overflow-x:auto;line-height:normal;font-family:Menlo,'DejaVu Sans Mono',consolas,'Courier New',monospace\">┏━━━━━━━━━━━━━━━━━━━━━━━━━━━━━━━━━━━━━━┳━━━━━━━━━━━━━━━━━━━━━━━━━━━━━┳━━━━━━━━━━━━━━━━━┓\n",
              "┃<span style=\"font-weight: bold\"> Layer (type)                         </span>┃<span style=\"font-weight: bold\"> Output Shape                </span>┃<span style=\"font-weight: bold\">         Param # </span>┃\n",
              "┡━━━━━━━━━━━━━━━━━━━━━━━━━━━━━━━━━━━━━━╇━━━━━━━━━━━━━━━━━━━━━━━━━━━━━╇━━━━━━━━━━━━━━━━━┩\n",
              "│ embedding (<span style=\"color: #0087ff; text-decoration-color: #0087ff\">Embedding</span>)                │ (<span style=\"color: #00d7ff; text-decoration-color: #00d7ff\">None</span>, <span style=\"color: #00af00; text-decoration-color: #00af00\">250</span>, <span style=\"color: #00af00; text-decoration-color: #00af00\">128</span>)            │      <span style=\"color: #00af00; text-decoration-color: #00af00\">24,747,648</span> │\n",
              "├──────────────────────────────────────┼─────────────────────────────┼─────────────────┤\n",
              "│ bidirectional (<span style=\"color: #0087ff; text-decoration-color: #0087ff\">Bidirectional</span>)        │ (<span style=\"color: #00d7ff; text-decoration-color: #00d7ff\">None</span>, <span style=\"color: #00af00; text-decoration-color: #00af00\">250</span>, <span style=\"color: #00af00; text-decoration-color: #00af00\">128</span>)            │          <span style=\"color: #00af00; text-decoration-color: #00af00\">24,704</span> │\n",
              "├──────────────────────────────────────┼─────────────────────────────┼─────────────────┤\n",
              "│ bidirectional_1 (<span style=\"color: #0087ff; text-decoration-color: #0087ff\">Bidirectional</span>)      │ (<span style=\"color: #00d7ff; text-decoration-color: #00d7ff\">None</span>, <span style=\"color: #00af00; text-decoration-color: #00af00\">64</span>)                  │          <span style=\"color: #00af00; text-decoration-color: #00af00\">10,304</span> │\n",
              "├──────────────────────────────────────┼─────────────────────────────┼─────────────────┤\n",
              "│ dense (<span style=\"color: #0087ff; text-decoration-color: #0087ff\">Dense</span>)                        │ (<span style=\"color: #00d7ff; text-decoration-color: #00d7ff\">None</span>, <span style=\"color: #00af00; text-decoration-color: #00af00\">64</span>)                  │           <span style=\"color: #00af00; text-decoration-color: #00af00\">4,160</span> │\n",
              "├──────────────────────────────────────┼─────────────────────────────┼─────────────────┤\n",
              "│ dense_1 (<span style=\"color: #0087ff; text-decoration-color: #0087ff\">Dense</span>)                      │ (<span style=\"color: #00d7ff; text-decoration-color: #00d7ff\">None</span>, <span style=\"color: #00af00; text-decoration-color: #00af00\">1</span>)                   │              <span style=\"color: #00af00; text-decoration-color: #00af00\">65</span> │\n",
              "└──────────────────────────────────────┴─────────────────────────────┴─────────────────┘\n",
              "</pre>\n"
            ]
          },
          "metadata": {}
        },
        {
          "output_type": "display_data",
          "data": {
            "text/plain": [
              "\u001b[1m Total params: \u001b[0m\u001b[38;5;34m24,786,881\u001b[0m (94.55 MB)\n"
            ],
            "text/html": [
              "<pre style=\"white-space:pre;overflow-x:auto;line-height:normal;font-family:Menlo,'DejaVu Sans Mono',consolas,'Courier New',monospace\"><span style=\"font-weight: bold\"> Total params: </span><span style=\"color: #00af00; text-decoration-color: #00af00\">24,786,881</span> (94.55 MB)\n",
              "</pre>\n"
            ]
          },
          "metadata": {}
        },
        {
          "output_type": "display_data",
          "data": {
            "text/plain": [
              "\u001b[1m Trainable params: \u001b[0m\u001b[38;5;34m24,786,881\u001b[0m (94.55 MB)\n"
            ],
            "text/html": [
              "<pre style=\"white-space:pre;overflow-x:auto;line-height:normal;font-family:Menlo,'DejaVu Sans Mono',consolas,'Courier New',monospace\"><span style=\"font-weight: bold\"> Trainable params: </span><span style=\"color: #00af00; text-decoration-color: #00af00\">24,786,881</span> (94.55 MB)\n",
              "</pre>\n"
            ]
          },
          "metadata": {}
        },
        {
          "output_type": "display_data",
          "data": {
            "text/plain": [
              "\u001b[1m Non-trainable params: \u001b[0m\u001b[38;5;34m0\u001b[0m (0.00 B)\n"
            ],
            "text/html": [
              "<pre style=\"white-space:pre;overflow-x:auto;line-height:normal;font-family:Menlo,'DejaVu Sans Mono',consolas,'Courier New',monospace\"><span style=\"font-weight: bold\"> Non-trainable params: </span><span style=\"color: #00af00; text-decoration-color: #00af00\">0</span> (0.00 B)\n",
              "</pre>\n"
            ]
          },
          "metadata": {}
        }
      ]
    },
    {
      "cell_type": "code",
      "source": [
        "# Define the batch size for training and testing\n",
        "batch_size = 32\n",
        "\n",
        "# Create a TensorFlow Dataset from the training data and labels\n",
        "# Dataset.from_tensor_slices creates a dataset with pairs of (input, label) tensors\n",
        "train_dataset = tensorflow.data.Dataset.from_tensor_slices((train_data, train_labels))\n",
        "\n",
        "# Create a TensorFlow Dataset from the testing data and labels\n",
        "test_dataset = tensorflow.data.Dataset.from_tensor_slices((test_data, test_labels))\n",
        "\n",
        "# Batch the datasets\n",
        "# This will divide the dataset into batches of size 32 for efficient training\n",
        "train_dataset = train_dataset.batch(batch_size)\n",
        "test_dataset = test_dataset.batch(batch_size)\n",
        "\n",
        "# Train the model using the training dataset\n",
        "history = model.fit(train_dataset, epochs=5, validation_data=test_dataset)"
      ],
      "metadata": {
        "colab": {
          "base_uri": "https://localhost:8080/"
        },
        "id": "JRmt3JiAXCbN",
        "outputId": "16bea383-64ad-443c-c92e-c2ba71d42e5e"
      },
      "execution_count": null,
      "outputs": [
        {
          "output_type": "stream",
          "name": "stdout",
          "text": [
            "Epoch 1/5\n",
            "\u001b[1m943/943\u001b[0m \u001b[32m━━━━━━━━━━━━━━━━━━━━\u001b[0m\u001b[37m\u001b[0m \u001b[1m121s\u001b[0m 126ms/step - accuracy: 0.9409 - loss: 0.1587 - val_accuracy: 0.9456 - val_loss: 0.1465\n",
            "Epoch 2/5\n",
            "\u001b[1m943/943\u001b[0m \u001b[32m━━━━━━━━━━━━━━━━━━━━\u001b[0m\u001b[37m\u001b[0m \u001b[1m128s\u001b[0m 114ms/step - accuracy: 0.9950 - loss: 0.0167 - val_accuracy: 0.9312 - val_loss: 0.2450\n",
            "Epoch 3/5\n",
            "\u001b[1m943/943\u001b[0m \u001b[32m━━━━━━━━━━━━━━━━━━━━\u001b[0m\u001b[37m\u001b[0m \u001b[1m140s\u001b[0m 112ms/step - accuracy: 0.9998 - loss: 0.0011 - val_accuracy: 0.9379 - val_loss: 0.2642\n",
            "Epoch 4/5\n",
            "\u001b[1m943/943\u001b[0m \u001b[32m━━━━━━━━━━━━━━━━━━━━\u001b[0m\u001b[37m\u001b[0m \u001b[1m103s\u001b[0m 109ms/step - accuracy: 0.9998 - loss: 0.0014 - val_accuracy: 0.9373 - val_loss: 0.2728\n",
            "Epoch 5/5\n",
            "\u001b[1m943/943\u001b[0m \u001b[32m━━━━━━━━━━━━━━━━━━━━\u001b[0m\u001b[37m\u001b[0m \u001b[1m106s\u001b[0m 112ms/step - accuracy: 0.9999 - loss: 2.7748e-04 - val_accuracy: 0.9357 - val_loss: 0.3013\n"
          ]
        }
      ]
    },
    {
      "cell_type": "code",
      "source": [
        "plt.plot(history.history['accuracy'], label='Train Accuracy')\n",
        "plt.plot(history.history['val_accuracy'], label='Val Accuracy')\n",
        "plt.title('Model Accuracy')\n",
        "plt.ylabel('Accuracy')\n",
        "plt.xlabel('Epoch')\n",
        "plt.legend(loc='lower right')\n",
        "plt.show()\n",
        "\n",
        "plt.plot(history.history['loss'], label='Train Loss')\n",
        "plt.plot(history.history['val_loss'], label='Val Loss')\n",
        "plt.title('Model Loss')\n",
        "plt.ylabel('Loss')\n",
        "plt.xlabel('Epoch')\n",
        "plt.legend(loc='upper right')\n",
        "plt.show()"
      ],
      "metadata": {
        "colab": {
          "base_uri": "https://localhost:8080/",
          "height": 927
        },
        "id": "N4JD8hXRXgt7",
        "outputId": "fe5333b9-c458-4dad-d334-d4abf6f8b922"
      },
      "execution_count": null,
      "outputs": [
        {
          "output_type": "display_data",
          "data": {
            "text/plain": [
              "<Figure size 640x480 with 1 Axes>"
            ],
            "image/png": "[encoded data removed]"
          },
          "metadata": {}
        },
        {
          "output_type": "display_data",
          "data": {
            "text/plain": [
              "<Figure size 640x480 with 1 Axes>"
            ],
            "image/png": "[encoded data removed]"
          },
          "metadata": {}
        }
      ]
    },
    {
      "cell_type": "code",
      "source": [
        "results = model.evaluate(test_data, test_labels)\n",
        "print(f\"Accuracy: {results[1] * 100:.2f}%\")"
      ],
      "metadata": {
        "colab": {
          "base_uri": "https://localhost:8080/"
        },
        "id": "3fXEICN8tCtB",
        "outputId": "c1b2bbd0-9cc4-4761-e49b-e442a403a55e"
      },
      "execution_count": null,
      "outputs": [
        {
          "output_type": "stream",
          "name": "stdout",
          "text": [
            "\u001b[1m236/236\u001b[0m \u001b[32m━━━━━━━━━━━━━━━━━━━━\u001b[0m\u001b[37m\u001b[0m \u001b[1m10s\u001b[0m 44ms/step - accuracy: 0.9351 - loss: 0.3049\n",
            "Accuracy: 93.57%\n"
          ]
        }
      ]
    },
    {
      "cell_type": "markdown",
      "source": [
        "# Inference, Predicting Labels for New Text Data"
      ],
      "metadata": {
        "id": "YJNEMhkUEUic"
      }
    },
    {
      "cell_type": "code",
      "source": [
        "# Define a sample text for prediction\n",
        "sample_text = [\"التجربة كانت سيئة جدا\"]\n",
        "\n",
        "# Clean the sample text (assuming there's a function clean_text() for text preprocessing)\n",
        "# This step would typically involve removing unwanted characters, stopwords, etc.\n",
        "sample_sequence = tokenizer.texts_to_sequences([clean_text(sample_text[0])])\n",
        "\n",
        "# Pad the sequence to match the maximum length used during training\n",
        "# Padding ensures that the input to the model has the same shape as the training data\n",
        "padded_sample_sequence = pad_sequences(sample_sequence, maxlen=max_length, padding='post')\n",
        "\n",
        "# Predict the label for the padded sample sequence using the trained model\n",
        "predicted_label = model.predict(padded_sample_sequence)\n",
        "\n",
        "# Print the predicted label by converting the integer-encoded prediction back to the original label\n",
        "# The label_encoder.inverse_transform() method translates the encoded label back to its original form\n",
        "print(\"Predicted label:\", label_encoder.inverse_transform([predicted_label.argmax()]))"
      ],
      "metadata": {
        "colab": {
          "base_uri": "https://localhost:8080/"
        },
        "id": "GPt5Q2Dgh1bj",
        "outputId": "c87e0c73-bad2-487a-8507-6858584f10c1"
      },
      "execution_count": null,
      "outputs": [
        {
          "output_type": "stream",
          "name": "stdout",
          "text": [
            "\u001b[1m1/1\u001b[0m \u001b[32m━━━━━━━━━━━━━━━━━━━━\u001b[0m\u001b[37m\u001b[0m \u001b[1m1s\u001b[0m 746ms/step\n",
            "Predicted label: ['Negative']\n"
          ]
        }
      ]
    },
    {
      "cell_type": "code",
      "source": [
        "model.save('model.h5')"
      ],
      "metadata": {
        "colab": {
          "base_uri": "https://localhost:8080/"
        },
        "id": "oBLUNK4jkvgy",
        "outputId": "48e2bc75-1127-4494-95a8-198d1923efae"
      },
      "execution_count": null,
      "outputs": [
        {
          "output_type": "stream",
          "name": "stderr",
          "text": [
            "WARNING:absl:You are saving your model as an HDF5 file via `model.save()` or `keras.saving.save_model(model)`. This file format is considered legacy. We recommend using instead the native Keras format, e.g. `model.save('my_model.keras')` or `keras.saving.save_model(model, 'my_model.keras')`. \n"
          ]
        }
      ]
    }
  ]
}