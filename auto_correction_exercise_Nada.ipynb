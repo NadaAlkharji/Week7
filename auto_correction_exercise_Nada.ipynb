{
  "cells": [
    {
      "cell_type": "markdown",
      "id": "8e8b6f85",
      "metadata": {
        "id": "8e8b6f85"
      },
      "source": [
        "# Auto-Correction Exercise\n",
        "\n",
        "This exercise will guide you through building an auto-correct system in Python. Follow the instructions in each step to complete the implementation."
      ]
    },
    {
      "cell_type": "markdown",
      "id": "b4ed5e99",
      "metadata": {
        "id": "b4ed5e99"
      },
      "source": [
        "## Step 1: Import Libraries\n",
        "\n",
        "Import the necessary libraries"
      ]
    },
    {
      "cell_type": "code",
      "execution_count": null,
      "id": "c58dfc7e",
      "metadata": {
        "id": "c58dfc7e"
      },
      "outputs": [],
      "source": [
        "import os\n",
        "import re\n",
        "import numpy as np\n",
        "import pandas as pd\n",
        "from collections import Counter\n",
        "import nltk"
      ]
    },
    {
      "cell_type": "markdown",
      "id": "f849129e",
      "metadata": {
        "id": "f849129e"
      },
      "source": [
        "## Step 2: Load Data\n",
        "\n",
        "Load a trusted text corpus to build the auto-correct system."
      ]
    },
    {
      "cell_type": "code",
      "execution_count": null,
      "id": "df8d28c4",
      "metadata": {
        "id": "df8d28c4",
        "colab": {
          "base_uri": "https://localhost:8080/",
          "height": 36
        },
        "outputId": "272628e6-e93f-42af-d6b3-40f48a1128eb"
      },
      "outputs": [
        {
          "output_type": "execute_result",
          "data": {
            "text/plain": [
              "'Business fears over sluggish EU economy\\n'"
            ],
            "application/vnd.google.colaboratory.intrinsic+json": {
              "type": "string"
            }
          },
          "metadata": {},
          "execution_count": 30
        }
      ],
      "source": [
        "# Load the corpus\n",
        "with open('business_26.txt', 'r', encoding='ISO-8859-1') as f:\n",
        "    file = f.readlines()\n",
        "\n",
        "# A small sample of the corpus\n",
        "file[0][:3000]"
      ]
    },
    {
      "cell_type": "markdown",
      "id": "ffa045c9",
      "metadata": {
        "id": "ffa045c9"
      },
      "source": [
        "## Step 3: Data Processing\n",
        "\n",
        "Tokenize the text and convert all characters to lowercase to clean the data."
      ]
    },
    {
      "cell_type": "code",
      "execution_count": null,
      "id": "41511573",
      "metadata": {
        "id": "41511573",
        "colab": {
          "base_uri": "https://localhost:8080/"
        },
        "outputId": "d2d44637-894c-4f3d-b44f-c700c8086227"
      },
      "outputs": [
        {
          "output_type": "stream",
          "name": "stdout",
          "text": [
            "The first ten words in the text are: \n",
            "['business', 'fears', 'over', 'sluggish', 'eu', 'economy', 'as', 'european', 'leaders', 'gather']\n",
            "There are 399 unique words in the vocabulary.\n"
          ]
        }
      ],
      "source": [
        "# Your code here to process the data\n",
        "def process_data(lines):\n",
        "    words = []\n",
        "    for line in lines:\n",
        "        line = line.strip().lower()\n",
        "        word = re.findall(r'\\w+', line)\n",
        "        words.extend(word)\n",
        "    return words\n",
        "\n",
        "word_l = process_data(file)\n",
        "vocab = set(word_l)\n",
        "print(f\"The first ten words in the text are: \\n{word_l[0:10]}\")\n",
        "print(f\"There are {len(vocab)} unique words in the vocabulary.\")"
      ]
    },
    {
      "cell_type": "markdown",
      "id": "8999b61e",
      "metadata": {
        "id": "8999b61e"
      },
      "source": [
        "\n",
        "## Step 4: Architecture Overview\n",
        "\n",
        "This auto-correct architecture has four main components:\n",
        "\n",
        "1. **Filtering Mispells**: Check if a word is in the vocabulary.\n",
        "2. **Word Suggestion Mechanism**: Suggest candidate words based on various edit operations.\n",
        "3. **Probability Distribution Mechanism**: Calculate the probability of each candidate word.\n",
        "4. **Replace Mispells**: Replace the misspelled word with the most probable suggestion.\n",
        "\n",
        "Implement each part step-by-step in the cells below.\n"
      ]
    },
    {
      "cell_type": "markdown",
      "id": "ee2c7bfc",
      "metadata": {
        "id": "ee2c7bfc"
      },
      "source": [
        "### Step 4.1: Filtering Mispells\n",
        "\n",
        "Write a function to identify words not present in the vocabulary."
      ]
    },
    {
      "cell_type": "code",
      "execution_count": null,
      "id": "a18cb2c2",
      "metadata": {
        "id": "a18cb2c2",
        "colab": {
          "base_uri": "https://localhost:8080/"
        },
        "outputId": "08cf9180-3132-450e-99b8-99a139971e27"
      },
      "outputs": [
        {
          "output_type": "execute_result",
          "data": {
            "text/plain": [
              "['econoomy']"
            ]
          },
          "metadata": {},
          "execution_count": 66
        }
      ],
      "source": [
        "def find_wrong_word(sent, vocab):\n",
        "    wrong_words = []\n",
        "    sent = sent.strip().lower().split(\" \")\n",
        "    for word in sent:\n",
        "        if word not in vocab:\n",
        "            wrong_words.append(word)\n",
        "    return wrong_words\n",
        "\n",
        "find_wrong_word('Business fears over sluggish EU econoomy', vocab)"
      ]
    },
    {
      "cell_type": "markdown",
      "id": "c5ae5fef",
      "metadata": {
        "id": "c5ae5fef"
      },
      "source": [
        "### Step 4.2: Word Suggestion Mechanism\n",
        "\n",
        "Implement functions to suggest words by deleting, switching, replacing, or inserting characters."
      ]
    },
    {
      "cell_type": "code",
      "execution_count": null,
      "id": "9647c078",
      "metadata": {
        "id": "9647c078",
        "colab": {
          "base_uri": "https://localhost:8080/"
        },
        "outputId": "b8003bca-5b2e-4a9e-b209-c2a2fbba47b7"
      },
      "outputs": [
        {
          "output_type": "stream",
          "name": "stdout",
          "text": [
            "input word : cans \n",
            "split_l = [('', 'cans'), ('c', 'ans'), ('ca', 'ns'), ('can', 's')], \n",
            "delete_l = ['ans', 'cns', 'cas', 'can']\n"
          ]
        }
      ],
      "source": [
        "# Delete letter\n",
        "def delete_letter(word, verbose=False):\n",
        "    delete_l = []\n",
        "    split_l = [(word[:i], word[i:]) for i in range(len(word))]\n",
        "    delete_l = [s[0]+s[1][1:] for s in split_l]\n",
        "    if verbose: print(f\"input word : {word} \\nsplit_l = {split_l}, \\ndelete_l = {delete_l}\")\n",
        "    return delete_l\n",
        "\n",
        "delete_word_l = delete_letter(word=\"cans\", verbose=True)"
      ]
    },
    {
      "cell_type": "code",
      "source": [
        "# Switch letter\n",
        "def switch_letter(word, verbose=False):\n",
        "    switch_l = []\n",
        "    split_l = [(word[:i], word[i:]) for i in range(len(word))]\n",
        "    for s in split_l:\n",
        "        if len(s[1]) > 2:\n",
        "            temp = s[0] + s[1][1] + s[1][0] + s[1][2:]\n",
        "        elif len(s[1]) == 2:\n",
        "            temp = s[0] + s[1][1] + s[1][0]\n",
        "        elif len(s[1]) == 1:\n",
        "            continue\n",
        "        switch_l.append(temp)\n",
        "    if verbose: print(f\"Input word = {word} \\nsplit_l = {split_l} \\nswitch_l = {switch_l}\")\n",
        "    return switch_l\n",
        "\n",
        "switch_word_l = switch_letter(word=\"Teh\", verbose=True)"
      ],
      "metadata": {
        "id": "7MOCW5n7uVba",
        "colab": {
          "base_uri": "https://localhost:8080/"
        },
        "outputId": "55801dca-6da0-4a9e-df36-fd767d01557d"
      },
      "id": "7MOCW5n7uVba",
      "execution_count": null,
      "outputs": [
        {
          "output_type": "stream",
          "name": "stdout",
          "text": [
            "Input word = Teh \n",
            "split_l = [('', 'Teh'), ('T', 'eh'), ('Te', 'h')] \n",
            "switch_l = ['eTh', 'The']\n"
          ]
        }
      ]
    },
    {
      "cell_type": "code",
      "source": [
        "# Replace letter\n",
        "def replace_letter(word, verbose=False):\n",
        "    letters = 'abcdefghijklmnopqrstuvwxyz'\n",
        "    replace_l = []\n",
        "    split_l = [(word[:i], word[i:]) for i in range(len(word))]\n",
        "    for s in split_l:\n",
        "        if len(s[1]) == 1:\n",
        "            for l in letters:\n",
        "                if l != s[1][0]:\n",
        "                    replace_l.append(s[0] + l)\n",
        "        elif len(s[1]) > 1:\n",
        "            for l in letters:\n",
        "                if l != s[1][0]:\n",
        "                    replace_l.append(s[0] + l + s[1][1:])\n",
        "    replace_set = set(replace_l)\n",
        "    replace_l = sorted(list(replace_set))\n",
        "    if verbose: print(f\"Input word = {word} \\nsplit_l = {split_l} \\nreplace_l = {replace_l}\")\n",
        "    return replace_l\n",
        "\n",
        "replace_l = replace_letter(word='the', verbose=True)"
      ],
      "metadata": {
        "id": "Mv-tOycduVL_",
        "colab": {
          "base_uri": "https://localhost:8080/"
        },
        "outputId": "16dfff25-e8db-4eef-b10d-64ac97fd3a43"
      },
      "id": "Mv-tOycduVL_",
      "execution_count": null,
      "outputs": [
        {
          "output_type": "stream",
          "name": "stdout",
          "text": [
            "Input word = the \n",
            "split_l = [('', 'the'), ('t', 'he'), ('th', 'e')] \n",
            "replace_l = ['ahe', 'bhe', 'che', 'dhe', 'ehe', 'fhe', 'ghe', 'hhe', 'ihe', 'jhe', 'khe', 'lhe', 'mhe', 'nhe', 'ohe', 'phe', 'qhe', 'rhe', 'she', 'tae', 'tbe', 'tce', 'tde', 'tee', 'tfe', 'tge', 'tha', 'thb', 'thc', 'thd', 'thf', 'thg', 'thh', 'thi', 'thj', 'thk', 'thl', 'thm', 'thn', 'tho', 'thp', 'thq', 'thr', 'ths', 'tht', 'thu', 'thv', 'thw', 'thx', 'thy', 'thz', 'tie', 'tje', 'tke', 'tle', 'tme', 'tne', 'toe', 'tpe', 'tqe', 'tre', 'tse', 'tte', 'tue', 'tve', 'twe', 'txe', 'tye', 'tze', 'uhe', 'vhe', 'whe', 'xhe', 'yhe', 'zhe']\n"
          ]
        }
      ]
    },
    {
      "cell_type": "code",
      "source": [
        "# Insert letter\n",
        "def insert_letter(word, verbose=False):\n",
        "    letters = 'abcdefghijklmnopqrstuvwxyz'\n",
        "    insert_l = []\n",
        "    split_l = [(word[:i], word[i:]) for i in range(len(word)+1)]\n",
        "    for s in split_l:\n",
        "        for l in letters:\n",
        "            insert_l.append(s[0] + l + s[1])\n",
        "    if verbose: print(f\"Input word {word} \\nsplit_l = {split_l} \\ninsert_l = {insert_l}\")\n",
        "    return insert_l\n",
        "\n",
        "insert_l = insert_letter('the', True)\n",
        "print(f\"Number of strings output by insert_letter('at') is {len(insert_l)}\")"
      ],
      "metadata": {
        "id": "e-CAlWzkuUcq",
        "colab": {
          "base_uri": "https://localhost:8080/"
        },
        "outputId": "f14ac3cc-5826-4656-fcfe-9f3d6d1c1df0"
      },
      "id": "e-CAlWzkuUcq",
      "execution_count": null,
      "outputs": [
        {
          "output_type": "stream",
          "name": "stdout",
          "text": [
            "Input word the \n",
            "split_l = [('', 'the'), ('t', 'he'), ('th', 'e'), ('the', '')] \n",
            "insert_l = ['athe', 'bthe', 'cthe', 'dthe', 'ethe', 'fthe', 'gthe', 'hthe', 'ithe', 'jthe', 'kthe', 'lthe', 'mthe', 'nthe', 'othe', 'pthe', 'qthe', 'rthe', 'sthe', 'tthe', 'uthe', 'vthe', 'wthe', 'xthe', 'ythe', 'zthe', 'tahe', 'tbhe', 'tche', 'tdhe', 'tehe', 'tfhe', 'tghe', 'thhe', 'tihe', 'tjhe', 'tkhe', 'tlhe', 'tmhe', 'tnhe', 'tohe', 'tphe', 'tqhe', 'trhe', 'tshe', 'tthe', 'tuhe', 'tvhe', 'twhe', 'txhe', 'tyhe', 'tzhe', 'thae', 'thbe', 'thce', 'thde', 'thee', 'thfe', 'thge', 'thhe', 'thie', 'thje', 'thke', 'thle', 'thme', 'thne', 'thoe', 'thpe', 'thqe', 'thre', 'thse', 'thte', 'thue', 'thve', 'thwe', 'thxe', 'thye', 'thze', 'thea', 'theb', 'thec', 'thed', 'thee', 'thef', 'theg', 'theh', 'thei', 'thej', 'thek', 'thel', 'them', 'then', 'theo', 'thep', 'theq', 'ther', 'thes', 'thet', 'theu', 'thev', 'thew', 'thex', 'they', 'thez']\n",
            "Number of strings output by insert_letter('at') is 104\n"
          ]
        }
      ]
    },
    {
      "cell_type": "markdown",
      "id": "5c6197fc",
      "metadata": {
        "id": "5c6197fc"
      },
      "source": [
        "**Combining Functions for Word Suggestions**\n",
        "\n",
        "Combine the functions to edit one or two characters in a word."
      ]
    },
    {
      "cell_type": "code",
      "execution_count": null,
      "id": "e9229d4d",
      "metadata": {
        "id": "e9229d4d"
      },
      "outputs": [],
      "source": [
        "# Edit one letter\n",
        "def edit_one_letter(word, allow_switches=True):\n",
        "    edit_one_set = set()\n",
        "    insert_l = insert_letter(word)\n",
        "    delete_l = delete_letter(word)\n",
        "    replace_l = replace_letter(word)\n",
        "    switch_l = switch_letter(word)\n",
        "    if allow_switches:\n",
        "        ans = insert_l + delete_l + replace_l + switch_l\n",
        "    else:\n",
        "        ans = insert_l + delete_l + replace_l\n",
        "    edit_one_set = set(ans)\n",
        "    return edit_one_set\n"
      ]
    },
    {
      "cell_type": "code",
      "source": [
        "tmp_word = \"the\"\n",
        "tmp_edit_one_set = edit_one_letter(tmp_word)\n",
        "tmp_edit_one_l = sorted(list(tmp_edit_one_set))\n",
        "\n",
        "print(f\"input word : {tmp_word} \\nedit_one_l \\n{tmp_edit_one_l}\\n\")\n",
        "print(f\"Number of outputs from edit_one_letter('at') is {len(edit_one_letter('at'))}\")"
      ],
      "metadata": {
        "id": "ER_fSiamoAne",
        "colab": {
          "base_uri": "https://localhost:8080/"
        },
        "outputId": "3af97333-8158-4cb1-cd98-e82889d2b10f"
      },
      "id": "ER_fSiamoAne",
      "execution_count": null,
      "outputs": [
        {
          "output_type": "stream",
          "name": "stdout",
          "text": [
            "input word : the \n",
            "edit_one_l \n",
            "['ahe', 'athe', 'bhe', 'bthe', 'che', 'cthe', 'dhe', 'dthe', 'ehe', 'ethe', 'fhe', 'fthe', 'ghe', 'gthe', 'he', 'hhe', 'hte', 'hthe', 'ihe', 'ithe', 'jhe', 'jthe', 'khe', 'kthe', 'lhe', 'lthe', 'mhe', 'mthe', 'nhe', 'nthe', 'ohe', 'othe', 'phe', 'pthe', 'qhe', 'qthe', 'rhe', 'rthe', 'she', 'sthe', 'tae', 'tahe', 'tbe', 'tbhe', 'tce', 'tche', 'tde', 'tdhe', 'te', 'tee', 'teh', 'tehe', 'tfe', 'tfhe', 'tge', 'tghe', 'th', 'tha', 'thae', 'thb', 'thbe', 'thc', 'thce', 'thd', 'thde', 'thea', 'theb', 'thec', 'thed', 'thee', 'thef', 'theg', 'theh', 'thei', 'thej', 'thek', 'thel', 'them', 'then', 'theo', 'thep', 'theq', 'ther', 'thes', 'thet', 'theu', 'thev', 'thew', 'thex', 'they', 'thez', 'thf', 'thfe', 'thg', 'thge', 'thh', 'thhe', 'thi', 'thie', 'thj', 'thje', 'thk', 'thke', 'thl', 'thle', 'thm', 'thme', 'thn', 'thne', 'tho', 'thoe', 'thp', 'thpe', 'thq', 'thqe', 'thr', 'thre', 'ths', 'thse', 'tht', 'thte', 'thu', 'thue', 'thv', 'thve', 'thw', 'thwe', 'thx', 'thxe', 'thy', 'thye', 'thz', 'thze', 'tie', 'tihe', 'tje', 'tjhe', 'tke', 'tkhe', 'tle', 'tlhe', 'tme', 'tmhe', 'tne', 'tnhe', 'toe', 'tohe', 'tpe', 'tphe', 'tqe', 'tqhe', 'tre', 'trhe', 'tse', 'tshe', 'tte', 'tthe', 'tue', 'tuhe', 'tve', 'tvhe', 'twe', 'twhe', 'txe', 'txhe', 'tye', 'tyhe', 'tze', 'tzhe', 'uhe', 'uthe', 'vhe', 'vthe', 'whe', 'wthe', 'xhe', 'xthe', 'yhe', 'ythe', 'zhe', 'zthe']\n",
            "\n",
            "Number of outputs from edit_one_letter('at') is 129\n"
          ]
        }
      ]
    },
    {
      "cell_type": "code",
      "source": [
        "# Edit two letters\n",
        "def edit_two_letters(word, allow_switches = True):\n",
        "    '''\n",
        "    Input:\n",
        "        word: the input string/word\n",
        "    Output:\n",
        "        edit_two_set: a set of strings with all possible two edits\n",
        "    '''\n",
        "\n",
        "    edit_two_set = set()\n",
        "    one_edit = edit_one_letter(word)\n",
        "    ans = []\n",
        "    for w in one_edit:\n",
        "        ans.append(w)\n",
        "        ans.extend(edit_one_letter(w))\n",
        "\n",
        "    edit_two_set = set(ans)\n",
        "\n",
        "    return edit_two_set"
      ],
      "metadata": {
        "id": "UCSWEhMyu3ys"
      },
      "id": "UCSWEhMyu3ys",
      "execution_count": null,
      "outputs": []
    },
    {
      "cell_type": "code",
      "source": [
        "tmp_edit_two_set = edit_two_letters(\"a\")\n",
        "tmp_edit_two_l = sorted(list(tmp_edit_two_set))\n",
        "print(f\"Number of strings with edit distance of two: {len(tmp_edit_two_l)}\")\n",
        "print(f\"First 10 strings {tmp_edit_two_l[:10]}\")\n",
        "print(f\"Last 10 strings {tmp_edit_two_l[-10:]}\")\n",
        "print(f\"The data type of the returned object should be a set {type(tmp_edit_two_set)}\")\n",
        "print(f\"Number of strings that are 2 edit distances from 'at' is {len(edit_two_letters('at'))}\")"
      ],
      "metadata": {
        "id": "BN26HN7MoIEC",
        "colab": {
          "base_uri": "https://localhost:8080/"
        },
        "outputId": "8803ab40-e48a-4755-84b3-f8b705f1c0a7"
      },
      "id": "BN26HN7MoIEC",
      "execution_count": null,
      "outputs": [
        {
          "output_type": "stream",
          "name": "stdout",
          "text": [
            "Number of strings with edit distance of two: 2654\n",
            "First 10 strings ['', 'a', 'aa', 'aaa', 'aab', 'aac', 'aad', 'aae', 'aaf', 'aag']\n",
            "Last 10 strings ['zv', 'zva', 'zw', 'zwa', 'zx', 'zxa', 'zy', 'zya', 'zz', 'zza']\n",
            "The data type of the returned object should be a set <class 'set'>\n",
            "Number of strings that are 2 edit distances from 'at' is 7154\n"
          ]
        }
      ]
    },
    {
      "cell_type": "markdown",
      "id": "1f9a5ac0",
      "metadata": {
        "id": "1f9a5ac0"
      },
      "source": [
        "### Step 4.3: Probability Distribution\n",
        "\n",
        "Calculate the frequency of each word in the corpus and compute the probability distribution."
      ]
    },
    {
      "cell_type": "code",
      "execution_count": null,
      "id": "5462dd60",
      "metadata": {
        "id": "5462dd60",
        "colab": {
          "base_uri": "https://localhost:8080/"
        },
        "outputId": "3064b453-914f-4c10-ad26-5a2be1beb149"
      },
      "outputs": [
        {
          "output_type": "stream",
          "name": "stdout",
          "text": [
            "There are 399 key values pairs\n",
            "The count for the word 'thee' is 0\n"
          ]
        }
      ],
      "source": [
        "def get_count(word_l):\n",
        "    word_count_dict = Counter(word_l)\n",
        "    return word_count_dict\n",
        "\n",
        "word_count_dict = get_count(word_l)\n",
        "print(f\"There are {len(word_count_dict)} key values pairs\")\n",
        "print(f\"The count for the word 'thee' is {word_count_dict.get('thee',0)}\")"
      ]
    },
    {
      "cell_type": "code",
      "source": [
        "def get_probs(word_count_dict):\n",
        "    probs = {}\n",
        "    total = sum(word_count_dict.values())\n",
        "    for word in word_count_dict.keys():\n",
        "        probs[word] = word_count_dict[word] / total\n",
        "    return probs\n",
        "\n",
        "probs = get_probs(word_count_dict)\n",
        "print(f\"Length of probs is {len(probs)}\")\n",
        "print(f\"P('you') is {probs['you']:.4f}\")"
      ],
      "metadata": {
        "id": "S2xKryxPvCLu",
        "colab": {
          "base_uri": "https://localhost:8080/"
        },
        "outputId": "a868011a-05cc-4410-bdbb-3a97093cf4af"
      },
      "id": "S2xKryxPvCLu",
      "execution_count": null,
      "outputs": [
        {
          "output_type": "stream",
          "name": "stdout",
          "text": [
            "Length of probs is 399\n",
            "P('you') is 0.0012\n"
          ]
        }
      ]
    },
    {
      "cell_type": "code",
      "source": [
        "def g_p(w_c_d):\n",
        "  probs = {}\n",
        "  t = sum(w_c_d.values())\n",
        "  for word in w_c_d.keys():\n",
        "    probs[word] = w_c_d[word] / t\n",
        "  return probs\n",
        "\n",
        "probs = get_probs(word_count_dict)\n",
        "print(f\"Length of probs is {len(probs)}\")\n",
        "print(f\"P('business') is {probs['business']:.4f}\")"
      ],
      "metadata": {
        "id": "1R6ZGPmYvClz",
        "colab": {
          "base_uri": "https://localhost:8080/"
        },
        "outputId": "4bb5fdeb-5bc5-41aa-d64e-d9e03d94c95c"
      },
      "id": "1R6ZGPmYvClz",
      "execution_count": null,
      "outputs": [
        {
          "output_type": "stream",
          "name": "stdout",
          "text": [
            "Length of probs is 399\n",
            "P('business') is 0.0061\n"
          ]
        }
      ]
    },
    {
      "cell_type": "code",
      "source": [
        "# Display probability distribution\n",
        "prob_df = pd.DataFrame({'word': probs.keys(), 'probability': probs.values()}).sort_values(by='probability', ascending=False)\n",
        "prob_df.sample(5)\n",
        "\n",
        "prob_df.head().plot.bar(x='word', y='probability')"
      ],
      "metadata": {
        "id": "DLJnA0fIqAJ3",
        "colab": {
          "base_uri": "https://localhost:8080/",
          "height": 476
        },
        "outputId": "bba1cdd0-0b3d-4ef3-f7f8-fcec5f503f88"
      },
      "id": "DLJnA0fIqAJ3",
      "execution_count": null,
      "outputs": [
        {
          "output_type": "execute_result",
          "data": {
            "text/plain": [
              "<Axes: xlabel='word'>"
            ]
          },
          "metadata": {},
          "execution_count": 47
        },
        {
          "output_type": "display_data",
          "data": {
            "text/plain": [
              "<Figure size 640x480 with 1 Axes>"
            ],
            "image/png": "[encoded data removed]"
          },
          "metadata": {}
        }
      ]
    },
    {
      "cell_type": "markdown",
      "id": "8aebeba6",
      "metadata": {
        "id": "8aebeba6"
      },
      "source": [
        "### Step 4.4: Replace Misspells with Correction\n",
        "\n",
        "Write a function to replace misspelled words with the most probable corrections."
      ]
    },
    {
      "cell_type": "code",
      "execution_count": null,
      "id": "b8a61c93",
      "metadata": {
        "id": "b8a61c93",
        "colab": {
          "base_uri": "https://localhost:8080/",
          "height": 36
        },
        "outputId": "b410742b-bbd9-4f5b-c32c-6db018388d3a"
      },
      "outputs": [
        {
          "output_type": "execute_result",
          "data": {
            "text/plain": [
              "'and'"
            ],
            "application/vnd.google.colaboratory.intrinsic+json": {
              "type": "string"
            }
          },
          "metadata": {},
          "execution_count": 48
        }
      ],
      "source": [
        "# Your code here to replace misspells\n",
        "def get_corrections(word, probs, vocab, n=2, verbose=False):\n",
        "    suggestions = []\n",
        "    n_best = []\n",
        "\n",
        "    if word in probs.keys():\n",
        "        suggestions.append(word)\n",
        "    for w in edit_one_letter(word):\n",
        "        if len(suggestions) == n:\n",
        "            break\n",
        "        if w in probs.keys():\n",
        "            suggestions.append(w)\n",
        "    for w in edit_two_letters(word):\n",
        "        if len(suggestions) == n:\n",
        "            break\n",
        "        if w in probs.keys():\n",
        "            suggestions.append(w)\n",
        "\n",
        "    best_words = sorted({s: probs[s] for s in suggestions}.items(), key=lambda x: x[1], reverse=True)\n",
        "    n_best = best_words\n",
        "\n",
        "    if verbose: print(\"entered word = \", word, \"\\nsuggestions = \", suggestions)\n",
        "    return n_best\n",
        "\n",
        "def get_correct_word(word, vocab, probs, n):\n",
        "    corrections = get_corrections(word, probs, vocab, n, verbose=False)\n",
        "    if len(corrections) == 0:\n",
        "        return word\n",
        "\n",
        "    final_word = corrections[0][0]\n",
        "    final_prob = corrections[0][1]\n",
        "    for i, word_prob in enumerate(corrections):\n",
        "        if word_prob[1] > final_prob:\n",
        "            final_word = word_prob[0]\n",
        "            final_prob = word_prob[1]\n",
        "    return final_word\n",
        "\n",
        "get_correct_word('annd', vocab, probs, 100)"
      ]
    },
    {
      "cell_type": "markdown",
      "id": "baff1c00",
      "metadata": {
        "id": "baff1c00"
      },
      "source": [
        "### Step 5: Final Auto-Correction Function\n",
        "\n",
        "Combine all parts into a final function that corrects sentences."
      ]
    },
    {
      "cell_type": "code",
      "execution_count": null,
      "id": "974eb839",
      "metadata": {
        "id": "974eb839"
      },
      "outputs": [],
      "source": [
        "# Your code here for the final auto-correction function\n",
        "def autocorrect(sentence, vocab, probs):\n",
        "    print(\"Input sentence : \", sentence)\n",
        "    wrong_words = find_wrong_word(sentence, vocab)\n",
        "    print(\"Wrong words : \", wrong_words)\n",
        "    correct_words = []\n",
        "    for word in sentence.strip().lower().split(\" \"):\n",
        "        if word in wrong_words:\n",
        "            correct_word = get_correct_word(word, vocab, probs, 15)\n",
        "            word = correct_word\n",
        "        correct_words.append(word)\n",
        "    print(\"Output Sentence : \", \" \".join(correct_words).capitalize())"
      ]
    },
    {
      "cell_type": "markdown",
      "metadata": {
        "id": "O01DcmYtvOlh"
      },
      "source": [
        "### Step 6: Demo\n",
        "\n",
        "Apply your work to a sentence"
      ],
      "id": "O01DcmYtvOlh"
    },
    {
      "cell_type": "code",
      "source": [
        "autocorrect(\"The Governmment is reforming the labor market\", vocab, probs)"
      ],
      "metadata": {
        "id": "juIS0GFovX02",
        "colab": {
          "base_uri": "https://localhost:8080/"
        },
        "outputId": "49c0d8af-8df2-4a97-f8ae-81d529211c58"
      },
      "id": "juIS0GFovX02",
      "execution_count": null,
      "outputs": [
        {
          "output_type": "stream",
          "name": "stdout",
          "text": [
            "Input sentence :  The Governmment is reforming the labor market\n",
            "Wrong words :  ['governmment', 'labor']\n",
            "Output Sentence :  The government is reforming the labour market\n"
          ]
        }
      ]
    },
    {
      "cell_type": "code",
      "source": [
        "autocorrect(\"Lill is a popular tourist destination for Briton\", vocab, probs)"
      ],
      "metadata": {
        "id": "s7VwVFmhqTbm",
        "colab": {
          "base_uri": "https://localhost:8080/"
        },
        "outputId": "66e8a17d-09d7-4de5-966f-8c55c62aabd3"
      },
      "id": "s7VwVFmhqTbm",
      "execution_count": null,
      "outputs": [
        {
          "output_type": "stream",
          "name": "stdout",
          "text": [
            "Input sentence :  Lill is a popular tourist destination for Briton\n",
            "Wrong words :  ['lill', 'briton']\n",
            "Output Sentence :  Lille is a popular tourist destination for britons\n"
          ]
        }
      ]
    }
  ],
  "metadata": {
    "colab": {
      "provenance": []
    },
    "language_info": {
      "name": "python"
    },
    "kernelspec": {
      "name": "python3",
      "display_name": "Python 3"
    }
  },
  "nbformat": 4,
  "nbformat_minor": 5
}